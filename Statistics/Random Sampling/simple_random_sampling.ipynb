{
 "metadata": {
  "language_info": {
   "codemirror_mode": {
    "name": "ipython",
    "version": 3
   },
   "file_extension": ".py",
   "mimetype": "text/x-python",
   "name": "python",
   "nbconvert_exporter": "python",
   "pygments_lexer": "ipython3",
   "version": "3.7.6-final"
  },
  "orig_nbformat": 2,
  "kernelspec": {
   "name": "python_defaultSpec_1598429914539",
   "display_name": "Python 3.7.6 64-bit ('base': conda)"
  }
 },
 "nbformat": 4,
 "nbformat_minor": 2,
 "cells": [
  {
   "cell_type": "code",
   "execution_count": 2,
   "metadata": {},
   "outputs": [],
   "source": [
    "import pandas as p"
   ]
  },
  {
   "cell_type": "code",
   "execution_count": 23,
   "metadata": {},
   "outputs": [
    {
     "output_type": "execute_result",
     "data": {
      "text/plain": "   SNo        Date   StartupName   IndustryVertical  \\\n0    0  01/08/2017      TouchKin         Technology   \n1    1  02/08/2017       Ethinos         Technology   \n2    2  02/08/2017  Leverage Edu  Consumer Internet   \n3    3  02/08/2017          Zepo  Consumer Internet   \n4    4  02/08/2017  Click2Clinic  Consumer Internet   \n\n                                     SubVertical CityLocation  \\\n0                       Predictive Care Platform    Bangalore   \n1                       Digital Marketing Agency       Mumbai   \n2  Online platform for Higher Education Services    New Delhi   \n3                         DIY Ecommerce platform       Mumbai   \n4                  healthcare service aggregator    Hyderabad   \n\n                                       InvestorsName  InvestmentType  \\\n0                                        Kae Capital  Private Equity   \n1                         Triton Investment Advisors  Private Equity   \n2  Kashyap Deorah, Anand Sankeshwar, Deepak Jain,...    Seed Funding   \n3  Kunal Shah, LetsVenture, Anupam Mittal, Hetal ...    Seed Funding   \n4                     Narottam Thudi, Shireesh Palle    Seed Funding   \n\n  AmountInUSD Remarks  \n0   1,300,000     NaN  \n1         NaN     NaN  \n2         NaN     NaN  \n3     500,000     NaN  \n4     850,000     NaN  ",
      "text/html": "<div>\n<style scoped>\n    .dataframe tbody tr th:only-of-type {\n        vertical-align: middle;\n    }\n\n    .dataframe tbody tr th {\n        vertical-align: top;\n    }\n\n    .dataframe thead th {\n        text-align: right;\n    }\n</style>\n<table border=\"1\" class=\"dataframe\">\n  <thead>\n    <tr style=\"text-align: right;\">\n      <th></th>\n      <th>SNo</th>\n      <th>Date</th>\n      <th>StartupName</th>\n      <th>IndustryVertical</th>\n      <th>SubVertical</th>\n      <th>CityLocation</th>\n      <th>InvestorsName</th>\n      <th>InvestmentType</th>\n      <th>AmountInUSD</th>\n      <th>Remarks</th>\n    </tr>\n  </thead>\n  <tbody>\n    <tr>\n      <th>0</th>\n      <td>0</td>\n      <td>01/08/2017</td>\n      <td>TouchKin</td>\n      <td>Technology</td>\n      <td>Predictive Care Platform</td>\n      <td>Bangalore</td>\n      <td>Kae Capital</td>\n      <td>Private Equity</td>\n      <td>1,300,000</td>\n      <td>NaN</td>\n    </tr>\n    <tr>\n      <th>1</th>\n      <td>1</td>\n      <td>02/08/2017</td>\n      <td>Ethinos</td>\n      <td>Technology</td>\n      <td>Digital Marketing Agency</td>\n      <td>Mumbai</td>\n      <td>Triton Investment Advisors</td>\n      <td>Private Equity</td>\n      <td>NaN</td>\n      <td>NaN</td>\n    </tr>\n    <tr>\n      <th>2</th>\n      <td>2</td>\n      <td>02/08/2017</td>\n      <td>Leverage Edu</td>\n      <td>Consumer Internet</td>\n      <td>Online platform for Higher Education Services</td>\n      <td>New Delhi</td>\n      <td>Kashyap Deorah, Anand Sankeshwar, Deepak Jain,...</td>\n      <td>Seed Funding</td>\n      <td>NaN</td>\n      <td>NaN</td>\n    </tr>\n    <tr>\n      <th>3</th>\n      <td>3</td>\n      <td>02/08/2017</td>\n      <td>Zepo</td>\n      <td>Consumer Internet</td>\n      <td>DIY Ecommerce platform</td>\n      <td>Mumbai</td>\n      <td>Kunal Shah, LetsVenture, Anupam Mittal, Hetal ...</td>\n      <td>Seed Funding</td>\n      <td>500,000</td>\n      <td>NaN</td>\n    </tr>\n    <tr>\n      <th>4</th>\n      <td>4</td>\n      <td>02/08/2017</td>\n      <td>Click2Clinic</td>\n      <td>Consumer Internet</td>\n      <td>healthcare service aggregator</td>\n      <td>Hyderabad</td>\n      <td>Narottam Thudi, Shireesh Palle</td>\n      <td>Seed Funding</td>\n      <td>850,000</td>\n      <td>NaN</td>\n    </tr>\n  </tbody>\n</table>\n</div>"
     },
     "metadata": {},
     "execution_count": 23
    }
   ],
   "source": [
    "data=pd.read_csv(r'C:\\Users\\HP\\Desktop\\python\\startup_funding.csv',encoding='utf-8')\n",
    "data.head()"
   ]
  },
  {
   "cell_type": "code",
   "execution_count": 25,
   "metadata": {},
   "outputs": [
    {
     "output_type": "execute_result",
     "data": {
      "text/plain": "0    1,300,000\n1          NaN\n2          NaN\n3      500,000\n4      850,000\nName: AmountInUSD, dtype: object"
     },
     "metadata": {},
     "execution_count": 25
    }
   ],
   "source": [
    "amount=data['AmountInUSD']\n",
    "amount.head()\n"
   ]
  },
  {
   "cell_type": "code",
   "execution_count": 27,
   "metadata": {},
   "outputs": [
    {
     "output_type": "execute_result",
     "data": {
      "text/plain": "0    1,300,000\n3      500,000\n4      850,000\n5    1,000,000\n6    2,600,000\nName: AmountInUSD, dtype: object"
     },
     "metadata": {},
     "execution_count": 27
    }
   ],
   "source": [
    "## drop na\n",
    "amount.dropna(inplace=True)\n",
    "amount.head()"
   ]
  },
  {
   "cell_type": "code",
   "execution_count": 28,
   "metadata": {},
   "outputs": [
    {
     "output_type": "execute_result",
     "data": {
      "text/plain": "0    1300000\n3     500000\n4     850000\n5    1000000\n6    2600000\nName: AmountInUSD, dtype: object"
     },
     "metadata": {},
     "execution_count": 28
    }
   ],
   "source": [
    "## to replace the commas\n",
    "a1=amount.str.replace(',','')\n",
    "a1.head()"
   ]
  },
  {
   "cell_type": "code",
   "execution_count": 29,
   "metadata": {},
   "outputs": [
    {
     "output_type": "execute_result",
     "data": {
      "text/plain": "'1300000'"
     },
     "metadata": {},
     "execution_count": 29
    }
   ],
   "source": [
    "a1[0]"
   ]
  },
  {
   "cell_type": "code",
   "execution_count": 32,
   "metadata": {},
   "outputs": [
    {
     "output_type": "execute_result",
     "data": {
      "text/plain": "1300000"
     },
     "metadata": {},
     "execution_count": 32
    }
   ],
   "source": [
    "a2=pd.to_numeric(a1)\n",
    "a2[0]"
   ]
  },
  {
   "cell_type": "code",
   "execution_count": 34,
   "metadata": {
    "tags": []
   },
   "outputs": [
    {
     "output_type": "stream",
     "name": "stdout",
     "text": "12031073.099016393\n16000\n1400000000\n"
    }
   ],
   "source": [
    "pop_avg=a2.mean()\n",
    "pop_min=a2.min()\n",
    "pop_max=a2.max()\n",
    "print(pop_avg)\n",
    "print(pop_min)\n",
    "print(pop_max)"
   ]
  },
  {
   "cell_type": "code",
   "execution_count": 50,
   "metadata": {},
   "outputs": [
    {
     "output_type": "execute_result",
     "data": {
      "text/plain": "(100,)"
     },
     "metadata": {},
     "execution_count": 50
    }
   ],
   "source": [
    "population=a2\n",
    "sample_size=100\n",
    "population.sample() # selects 1 record randomly\n",
    "sample=population.sample(sample_size,random_state=1) \n",
    "sample.shape\n",
    "\n"
   ]
  },
  {
   "cell_type": "code",
   "execution_count": 57,
   "metadata": {
    "tags": []
   },
   "outputs": [
    {
     "output_type": "stream",
     "name": "stdout",
     "text": "12031073.099016393 24592930.0\n16000 18000\n1400000000 1400000000\n"
    }
   ],
   "source": [
    "sample_avg=sample.mean()\n",
    "sample_min=sample.min()\n",
    "sample_max=sample.max()\n",
    "\n",
    "print(pop_avg,sample_avg)\n",
    "print(pop_min,sample_min)\n",
    "print(pop_max,sample_max)\n",
    "\n",
    "# SamplingError=parameter-statistics (difference in values os sample and population)\n",
    "# goal shoul be to minimize sampling error so that our sample truly represents our population"
   ]
  },
  {
   "cell_type": "code",
   "execution_count": 60,
   "metadata": {},
   "outputs": [],
   "source": [
    "# import pandas as pd \n",
    "# import numpy as np \n",
    "# import matplotlib.pyplot as plt;\n",
    "# df_start=pd.read_csv(r'C:\\Users\\HP\\Desktop\\python\\startup_funding.csv',encoding='utf-8')\n",
    "# df_start['CityLocation'].dropna(inplace=True) \n",
    "# def separateCity(city): return city.split('/')[0].strip() \n",
    "# df_start['CityLocation']=df_start['CityLocation'].apply(separateCity) \n",
    "# df_start['CityLocation'].replace(\"Delhi\",\"New Delhi\",inplace=True) \n",
    "# df_start['CityLocation'].replace(\"bangalore\",\"Bangalore\",inplace=True) \n"
   ]
  }
 ]
}