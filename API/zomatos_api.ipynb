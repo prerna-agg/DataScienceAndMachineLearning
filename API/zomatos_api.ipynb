{
 "cells": [
  {
   "cell_type": "code",
   "execution_count": 1,
   "metadata": {},
   "outputs": [],
   "source": [
    "import requests\n",
    "import json\n",
    "%run configs.ipynb"
   ]
  },
  {
   "cell_type": "code",
   "execution_count": 2,
   "metadata": {
    "tags": []
   },
   "outputs": [
    {
     "output_type": "stream",
     "name": "stdout",
     "text": "73\n"
    }
   ],
   "source": [
    "headers={'user-key':zomatoApiKey,'Accept': 'application/json'}\n",
    "#first get the city id for mexico\n",
    "query={'city_id':'1'}\n",
    "res=requests.get('https://developers.zomato.com/api/v2.1/cuisines',headers=headers,params=query)\n",
    "\n",
    "for cuisine in res.json().get('cuisines'):\n",
    "    if cuisine['cuisine']['cuisine_name']=='Mexican':\n",
    "        print(cuisine['cuisine']['cuisine_id'])\n",
    "    "
   ]
  },
  {
   "cell_type": "code",
   "execution_count": 3,
   "metadata": {
    "tags": []
   },
   "outputs": [
    {
     "output_type": "stream",
     "name": "stdout",
     "text": "subzone 104\n"
    }
   ],
   "source": [
    "\n",
    "import requests\n",
    "import json\n",
    "headers={'user-key':'a4356ceff8fe3ac3b37168de92ddf8b9','Accept': 'application/json'}\n",
    "#first get the city id for mexico\n",
    "query={'query':'Connaught Place'}\n",
    "res=requests.get('https://developers.zomato.com/api/v2.1/locations',headers=headers,params=query)\n",
    "locs=res.json().get('location_suggestions')\n",
    "for loc in locs:\n",
    "    if loc.get('title')=='Connaught Place, New Delhi' :\n",
    "        print(loc.get('entity_type'),loc.get('entity_id'))"
   ]
  },
  {
   "cell_type": "code",
   "execution_count": 4,
   "metadata": {
    "tags": []
   },
   "outputs": [
    {
     "output_type": "stream",
     "name": "stdout",
     "text": "Farzi Cafe 4.5 18233593\nMinistry Of Beer 4.4 18418277\nChili's Grill & Bar 4.4 18537536\nWarehouse Cafe 4.3 301605\nXero Degrees 4.3 18729557\nUnplugged Courtyard 4.2 18216901\nPebble Street 4.2 309859\nChaayos - Meri Wali Chai 4.2 18237315\nThe Beer Cafe - BIGGIE 4.2 307060\nRodeo Cantina & Kitchen 4.1 18673403\n"
    }
   ],
   "source": [
    "import requests\n",
    "import json\n",
    "headers={'user-key':'a4356ceff8fe3ac3b37168de92ddf8b9','Accept': 'application/json'}\n",
    "#first get the city id for mexico\n",
    "query={'entity_type':'subzone','entity_id':'104','cuisines':'73','sort':'rating','count':'10'}\n",
    "res=requests.get('https://developers.zomato.com/api/v2.1/search',headers=headers,params=query)\n",
    "for res in res.json().get('restaurants'):\n",
    "    print(res.get('restaurant').get('name'),res.get('restaurant').get('user_rating').get('aggregate_rating'),res.get('restaurant').get('id'))"
   ]
  },
  {
   "cell_type": "code",
   "execution_count": 5,
   "metadata": {
    "tags": []
   },
   "outputs": [
    {
     "output_type": "stream",
     "name": "stdout",
     "text": "6\n"
    }
   ],
   "source": [
    "import requests\n",
    "import json\n",
    "headers={'user-key':'a4356ceff8fe3ac3b37168de92ddf8b9','Accept': 'application/json'}\n",
    "\n",
    "res=requests.get('https://developers.zomato.com/api/v2.1/categories',headers=headers)\n",
    "\n",
    "for cat in res.json().get('categories'):\n",
    "    if cat.get('categories').get('name')=='Cafes':\n",
    "        print(cat.get('categories').get('id'))"
   ]
  },
  {
   "cell_type": "code",
   "execution_count": 6,
   "metadata": {
    "tags": []
   },
   "outputs": [
    {
     "output_type": "stream",
     "name": "stdout",
     "text": "Xero Degrees 4.3 18729557\nChaayos - Meri Wali Chai 4.2 18237315\nThe Art House Bar n Cafe 4.0 18863766\nCafe Coffee Day - The Square 3.5 303034\n"
    }
   ],
   "source": [
    "import requests\n",
    "import json\n",
    "headers={'user-key':'a4356ceff8fe3ac3b37168de92ddf8b9','Accept': 'application/json'}\n",
    "#first get the city id for mexico\n",
    "query={'entity_type':'subzone','entity_id':'104','cuisines':'73','sort':'rating','count':'10','category':'6'}\n",
    "res=requests.get('https://developers.zomato.com/api/v2.1/search',headers=headers,params=query)\n",
    "for res in res.json().get('restaurants'):\n",
    "    print(res.get('restaurant').get('name'),res.get('restaurant').get('user_rating').get('aggregate_rating'),res.get('restaurant').get('id'))"
   ]
  },
  {
   "cell_type": "code",
   "execution_count": 7,
   "metadata": {
    "tags": []
   },
   "outputs": [
    {
     "output_type": "stream",
     "name": "stdout",
     "text": "{'aggregate_rating': '4.9', 'rating_text': 'Excellent', 'rating_color': '3F7E00', 'rating_obj': {'title': {'text': '4.9'}, 'bg_color': {'type': 'lime', 'tint': '800'}}, 'votes': 3906}\n2500\nAsian, Chinese, Thai, Japanese\nA-3, Select Citywalk, District Centre, Saket, New Delhi\n"
    }
   ],
   "source": [
    "import requests\n",
    "import json\n",
    "headers={'user-key':'a4356ceff8fe3ac3b37168de92ddf8b9','Accept': 'application/json'}\n",
    "#first get the city id for mexico\n",
    "query={'q':'Pa Pa Ya'}\n",
    "res=requests.get('https://developers.zomato.com/api/v2.1/search',headers=headers,params=query)\n",
    "# print(res.json().get('restaurants'))\n",
    "for res in res.json().get('restaurants'):\n",
    "    if (res['restaurant']['name']=='Pa Pa Ya'):\n",
    "        print(res['restaurant']['user_rating'])\n",
    "        print(res['restaurant']['average_cost_for_two'])\n",
    "        print(res['restaurant']['cuisines'])\n",
    "        print(res['restaurant']['location']['address'])\n",
    "        "
   ]
  },
  {
   "cell_type": "code",
   "execution_count": 8,
   "metadata": {
    "tags": []
   },
   "outputs": [
    {
     "output_type": "stream",
     "name": "stdout",
     "text": "-33.750014 122.532566\n{'location': {'entity_type': 'subzone', 'entity_id': 101953, 'title': 'Condingup', 'latitude': '-33.7500140000', 'longitude': '122.5325660000', 'city_id': 1949, 'city_name': 'Condingup', 'country_id': 14, 'country_name': 'Australia'}, 'popularity': {'popularity': '2.04', 'nightlife_index': '0.00', 'nearby_res': ['16609230'], 'top_cuisines': ['Bar Food'], 'popularity_res': '100', 'nightlife_res': '10', 'subzone': 'Condingup', 'subzone_id': 101953, 'city': 'Condingup'}, 'link': 'https://www.zomato.com/condingup-wa/condingup-restaurants', 'nearby_restaurants': [{'restaurant': {'R': {'has_menu_status': {'delivery': -1, 'takeaway': -1}, 'res_id': 16609230, 'is_grocery_store': False}, 'apikey': 'a4356ceff8fe3ac3b37168de92ddf8b9', 'id': '16609230', 'name': 'Condingup Tavern', 'url': 'https://www.zomato.com/condingup-wa/condingup-tavern-condingup?utm_source=api_basic_user&utm_medium=api&utm_campaign=v2.1', 'location': {'address': 'Corner of Ayre & Parish St, Condingup', 'locality': 'Condingup', 'city': 'Condingup', 'city_id': 1949, 'latitude': '-33.7500140000', 'longitude': '122.5325660000', 'zipcode': '06450', 'country_id': 14, 'locality_verbose': 'Condingup, Condingup'}, 'switch_to_order_menu': 0, 'cuisines': 'Bar Food', 'average_cost_for_two': 0, 'price_range': 1, 'currency': '$', 'offers': [], 'opentable_support': 0, 'is_zomato_book_res': 0, 'mezzo_provider': 'OTHER', 'is_book_form_web_view': 0, 'book_form_web_view_url': '', 'book_again_url': '', 'thumb': '', 'user_rating': {'aggregate_rating': '3.9', 'rating_text': 'Good', 'rating_color': '9ACD32', 'rating_obj': {'title': {'text': '3.9'}, 'bg_color': {'type': 'lime', 'tint': '600'}}, 'votes': 10}, 'photos_url': 'https://www.zomato.com/condingup-wa/condingup-tavern-condingup/photos?utm_source=api_basic_user&utm_medium=api&utm_campaign=v2.1#tabtop', 'menu_url': 'https://www.zomato.com/condingup-wa/condingup-tavern-condingup/menu?utm_source=api_basic_user&utm_medium=api&utm_campaign=v2.1&openSwipeBox=menu&showMinimal=1#tabtop', 'featured_image': '', 'has_online_delivery': 0, 'is_delivering_now': 0, 'store_type': '', 'include_bogo_offers': True, 'deeplink': 'zomato://restaurant/16609230', 'is_table_reservation_supported': 0, 'has_table_booking': 0, 'events_url': 'https://www.zomato.com/condingup-wa/condingup-tavern-condingup/events#tabtop?utm_source=api_basic_user&utm_medium=api&utm_campaign=v2.1'}}]}\n"
    }
   ],
   "source": [
    "import requests\n",
    "import json\n",
    "headers={'user-key':'a4356ceff8fe3ac3b37168de92ddf8b9','Accept': 'application/json'}\n",
    "#first get the city id for mexico\n",
    "query={'query':'Coding Ninjas'}\n",
    "res=requests.get('https://developers.zomato.com/api/v2.1/locations',headers=headers,params=query)\n",
    "# print(res.json()['location_suggestions'][0]['latitude'],res.json()['location_suggestions'][0]['longitude'])\n",
    "lat=res.json()['location_suggestions'][0]['latitude']\n",
    "lon=res.json()['location_suggestions'][0]['longitude']\n",
    "print(lat,lon)\n",
    "query={'lat':lat,'lon':lon}\n",
    "res=requests.get('https://developers.zomato.com/api/v2.1/geocode',headers=headers,params=query)\n",
    "print(res.json())"
   ]
  },
  {
   "cell_type": "code",
   "execution_count": null,
   "metadata": {},
   "outputs": [],
   "source": []
  }
 ],
 "metadata": {
  "kernelspec": {
   "display_name": "Python (myenv)",
   "language": "python",
   "name": "myenv"
  },
  "language_info": {
   "codemirror_mode": {
    "name": "ipython",
    "version": 3
   },
   "file_extension": ".py",
   "mimetype": "text/x-python",
   "name": "python",
   "nbconvert_exporter": "python",
   "pygments_lexer": "ipython3",
   "version": "3.7.6"
  }
 },
 "nbformat": 4,
 "nbformat_minor": 4
}