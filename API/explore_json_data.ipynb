{
 "metadata": {
  "language_info": {
   "codemirror_mode": {
    "name": "ipython",
    "version": 3
   },
   "file_extension": ".py",
   "mimetype": "text/x-python",
   "name": "python",
   "nbconvert_exporter": "python",
   "pygments_lexer": "ipython3",
   "version": "3.7.6-final"
  },
  "orig_nbformat": 2,
  "kernelspec": {
   "name": "python_defaultSpec_1595612924991",
   "display_name": "Python 3.7.6 64-bit ('base': conda)"
  }
 },
 "nbformat": 4,
 "nbformat_minor": 2,
 "cells": [
  {
   "cell_type": "code",
   "execution_count": 30,
   "metadata": {
    "tags": []
   },
   "outputs": [
    {
     "output_type": "stream",
     "name": "stdout",
     "text": "200\n\nNone\n\nhttps://api.codingninjas.com/api/v3/courses\n\n{'Date': 'Fri, 24 Jul 2020 18:16:38 GMT', 'Content-Type': 'application/json', 'Transfer-Encoding': 'chunked', 'Connection': 'keep-alive', 'Server': 'nginx/1.4.6 (Ubuntu)', 'X-Frame-Options': 'SAMEORIGIN', 'X-XSS-Protection': '1; mode=block', 'X-Content-Type-Options': 'nosniff', 'Access-Control-Allow-Origin': '*', 'Access-Control-Allow-Methods': 'POST, GET, PUT, DELETE, OPTIONS', 'Access-Control-Allow-Headers': 'Access-Control-Allow-Headers, Origin,Accept, X-Requested-With, Content-Type, Access-Control-Request-Method, Access-Control-Request-Headers, Authorization', 'Access-Control-Max-Age': '1728000', 'ETag': 'W/\"bd2b2e4db4e91f5ff0942bf2b44f07ed\"', 'Cache-Control': 'max-age=0, private, must-revalidate', 'X-Request-Id': '4a7d8c1f-6ceb-440d-bad3-b1bf9cca122f', 'X-Runtime': '0.009210', 'Strict-Transport-Security': 'max-age=31536000; includeSubDomains;'}\n\n{\"data\":{\"courses\":[{\"id\":16,\"title\":\"Ninja Competitive Programmer Track\",\"online_title\":\"online-competitive-programming-track\",\"offline_title\":\"\",\"name\":\"Ninja Competitive Programmer Track\",\"level\":\"Career Tracks\",\"brief_intro\":\"Competitive Track\",\"preview_image_url\":\"https://files.codingninjas.in/0000000000001177.png\",\"available_online\":true,\"available_offline\":false,\"is_career_track\":true,\"course_group_id\":3,\"classroom_icon_url\":\"https://files.codingninjas.in/0000000000003775.png\"},{\"id\":1,\"title\":\"Inception\",\"online_title\":\"onlline-c-plus-plus-course\",\"offline_title\":\"classroom-c-plus-plus-course\",\"name\":\"C++ Foundation with Data Structures\",\"level\":\"Foundation Courses\",\"brief_intro\":\"Brief Intro\",\"preview_image_url\":\"https://files.codingninjas.in/0000000000001176.png\",\"available_online\":true,\"available_offline\":false,\"is_career_track\":false,\"course_group_id\":1,\"classroom_icon_url\":\"https://files.codingninjas.in/0000000000003771.png\"},{\"id\":6,\"title\":\"Machine Learning Course\",\"online_title\":\"online-machine-learning-course\",\"offline_title\":\"classroom-machine-learning-course\",\"name\":\"Machine Learning Course\",\"level\":\"Advanced Courses\",\"brief_intro\":\"Machine learning engineers build, implement, and maintain machine learning systems in technology products.\",\"preview_image_url\":\"https://ninjasfiles.s3.amazonaws.com/0000000000001181.png\",\"available_online\":true,\"available_offline\":false,\"is_career_track\":false,\"course_group_id\":2,\"classroom_icon_url\":\"https://files.codingninjas.in/0000000000003766.png\"},{\"id\":34,\"title\":\"Advanced  Front-End Web Development with React\",\"online_title\":\"online-web-dev-with-react\",\"offline_title\":\"\",\"name\":\"Advanced  Front-End Web Development with React\",\"level\":\"Development Courses\",\"brief_intro\":\"Advanced  Front-End Web Development with React\",\"preview_image_url\":\"https://ninjasfiles.s3.amazonaws.com/0000000000001179.png\",\"available_online\":true,\"available_offline\":false,\"is_career_track\":false,\"course_group_id\":2,\"classroom_icon_url\":\"https://files.codingninjas.in/0000000000003769.png\"},{\"id\":2,\"title\":\"Nucleus\",\"online_title\":\"online-java-course\",\"offline_title\":\"classroom-java-course\",\"name\":\"JAVA Foundation with Data Structures\",\"level\":\"Foundation Courses\",\"brief_intro\":\"Brief Intro\",\"preview_image_url\":\"https://ninjasfiles.s3.amazonaws.com/0000000000001255.png\",\"available_online\":true,\"available_offline\":false,\"is_career_track\":false,\"course_group_id\":1,\"classroom_icon_url\":\"https://files.codingninjas.in/0000000000003772.png\"},{\"id\":35,\"title\":\"Ninja Android Developer Career Track \",\"online_title\":\"online-android-development-career-track\",\"offline_title\":\"\",\"name\":\"Ninja Android Developer Career Track \",\"level\":\"Career Tracks\",\"brief_intro\":\"beginner to pro Android Developer!\",\"preview_image_url\":\"https://ninjasfiles.s3.amazonaws.com/0000000000001175.png\",\"available_online\":true,\"available_offline\":false,\"is_career_track\":true,\"course_group_id\":3,\"classroom_icon_url\":\"https://files.codingninjas.in/0000000000003774.png\"},{\"id\":12,\"title\":\"Full Stack Web Development Course\",\"online_title\":\"online-full-stack-node-js-web-dev-course\",\"offline_title\":\"\",\"name\":\"Full Stack Web Development\",\"level\":\"Development Courses\",\"brief_intro\":\"Web Development\",\"preview_image_url\":\"https://ninjasfiles.s3.amazonaws.com/0000000000001179.png\",\"available_online\":true,\"available_offline\":false,\"is_career_track\":false,\"course_group_id\":2,\"classroom_icon_url\":\"https://files.codingninjas.in/0000000000003764.png\"},{\"id\":36,\"title\":\"Programming Foundation DS \\u0026 Algo + MERN Stack Web Dev\",\"online_title\":\"ninja-web-developer-career-track-mern-stack\",\"offline_title\":\"\",\"name\":\"Ninja  Web Developer Career Track - NodeJS \\u0026 ReactJs\",\"level\":\"Career Tracks\",\"brief_intro\":\"Programming foundation + MERN Stack Web Development complete Career Track\",\"preview_image_url\":\"https://ninjasfiles.s3.amazonaws.com/0000000000001179.png\",\"available_online\":true,\"available_offline\":false,\"is_career_track\":true,\"course_group_id\":3,\"classroom_icon_url\":\"https://files.codingninjas.in/0000000000003777.png\"},{\"id\":13,\"title\":\"Data Science \\u0026 Machine Learning Complete\",\"online_title\":\"online-data-science-course\",\"offline_title\":\"\",\"name\":\"Data Science \\u0026 Machine Learning Complete\",\"level\":\"Advanced Courses\",\"brief_intro\":\"Brief Intro\",\"preview_image_url\":\"https://ninjasfiles.s3.amazonaws.com/0000000000001371.png\",\"available_online\":true,\"available_offline\":false,\"is_career_track\":false,\"course_group_id\":2,\"classroom_icon_url\":\"https://files.codingninjas.in/0000000000003763.png\"},{\"id\":4,\"title\":\"Interview Preparation\",\"online_title\":\"online-interview-preparation\",\"offline_title\":\"classroom-interview-preparation\",\"name\":\"Interview Preparation Course\",\"level\":\"Advanced Courses\",\"brief_intro\":\"Brief Intro\",\"preview_image_url\":\"https://ninjasfiles.s3.amazonaws.com/0000000000001178.png\",\"available_online\":true,\"available_offline\":false,\"is_career_track\":false,\"course_group_id\":1,\"classroom_icon_url\":\"https://files.codingninjas.in/0000000000003765.png\"},{\"id\":10,\"title\":\"Competitive Programming\",\"online_title\":\"online-competitive-programming-course\",\"offline_title\":\"\",\"name\":\"Competitive Programming Course\",\"level\":\"Advanced Courses\",\"brief_intro\":\"Eminence\",\"preview_image_url\":\"https://ninjasfiles.s3.amazonaws.com/0000000000001177.png\",\"available_online\":true,\"available_offline\":false,\"is_career_track\":false,\"course_group_id\":1,\"classroom_icon_url\":\"https://files.codingninjas.in/0000000000003762.png\"},{\"id\":17,\"title\":\"Programming Foundation DS \\u0026 Algo + Full Stack Web Dev\",\"online_title\":\"web-developer-career-track\",\"offline_title\":\"\",\"name\":\"Ninja  Web Developer Career Track - NodeJS\",\"level\":\"Career Tracks\",\"brief_intro\":\"Programming foundation + Full Stack Web Development Career Track\",\"preview_image_url\":\"https://ninjasfiles.s3.amazonaws.com/0000000000001179.png\",\"available_online\":true,\"available_offline\":false,\"is_career_track\":true,\"course_group_id\":3,\"classroom_icon_url\":\"https://files.codingninjas.in/0000000000003777.png\"},{\"id\":11,\"title\":\"Python\",\"online_title\":\"online-python-course\",\"offline_title\":\"offline-python-course\",\"name\":\"Python Foundation with Data Structures\",\"level\":\"Foundation Courses\",\"brief_intro\":\"Python Foundation\",\"preview_image_url\":\"https://ninjasfiles.s3.amazonaws.com/0000000000001282.png\",\"available_online\":true,\"available_offline\":false,\"is_career_track\":false,\"course_group_id\":1,\"classroom_icon_url\":\"https://files.codingninjas.in/0000000000003773.png\"},{\"id\":33,\"title\":\"Android Development with Kotlin\",\"online_title\":\"online-android-Development-kotlin\",\"offline_title\":\"\",\"name\":\"Android Development with Kotlin\",\"level\":\"Development Courses\",\"brief_intro\":\"Android Development Kotlin\",\"preview_image_url\":\"https://ninjasfiles.s3.amazonaws.com/0000000000001175.png\",\"available_online\":true,\"available_offline\":false,\"is_career_track\":false,\"course_group_id\":2,\"classroom_icon_url\":\"https://files.codingninjas.in/0000000000003761.png\"},{\"id\":18,\"title\":\"Ninja Data Scientist Career Track\",\"online_title\":\"data-Scientist-career-track\",\"offline_title\":\"\",\"name\":\"Ninja Data Scientist Career Track\",\"level\":\"Career Tracks\",\"brief_intro\":\"Programming foundation + Data Science with ML career track\",\"preview_image_url\":\"https://ninjasfiles.s3.amazonaws.com/0000000000001371.png\",\"available_online\":true,\"available_offline\":false,\"is_career_track\":true,\"course_group_id\":3,\"classroom_icon_url\":\"https://files.codingninjas.in/0000000000003778.png\"},{\"id\":19,\"title\":\"Programming Foundation DS \\u0026 Algo + Machine Learning\",\"online_title\":\"machine-learning-engineer-career-track\",\"offline_title\":\"\",\"name\":\"Ninja Machine Learning Engineer Career Track\",\"level\":\"Career Tracks\",\"brief_intro\":\"Programming foundation + Machine Learning career track\",\"preview_image_url\":\"https://ninjasfiles.s3.amazonaws.com/0000000000001181.png\",\"available_online\":true,\"available_offline\":false,\"is_career_track\":true,\"course_group_id\":3,\"classroom_icon_url\":\"https://files.codingninjas.in/0000000000003776.png\"},{\"id\":21,\"title\":\"Aptitude Preparation Course\",\"online_title\":\"online-aptitude-preparation\",\"offline_title\":\"\",\"name\":\"Aptitude Preparation Course\",\"level\":\"Foundation Courses\",\"brief_intro\":\"Brief Intro\",\"preview_image_url\":\"https://ninjasfiles.s3.amazonaws.com/0000000000001178.png\",\"available_online\":true,\"available_offline\":false,\"is_career_track\":false,\"course_group_id\":1,\"classroom_icon_url\":\"https://files.codingninjas.in/0000000000003770.png\"}],\"course_groups\":[{\"id\":1,\"name\":\"Foundation, Algorithmic \\u0026 Advanced\",\"order\":1,\"course_ids\":[1,2,4,10,11,21]},{\"id\":2,\"name\":\"Data \\u0026 Development\",\"order\":2,\"course_ids\":[6,34,12,13,33]},{\"id\":3,\"name\":\"Career Track\",\"order\":3,\"course_ids\":[16,35,36,17,18,19]}]},\"message\":\"Courses\",\"status\":200,\"error\":null,\"disabled\":false,\"update\":false,\"external_rating\":null}\n"
    }
   ],
   "source": [
    "import requests\n",
    "response=requests.get('http://api.codingninjas.com/api/v3/courses') \n",
    "\n",
    "# status code\n",
    "# encoding --> tell the encoding of the response data that we got from the server.\n",
    "# url --> to the url to which we made the api call\n",
    "# text --> to access data of the api, it decodes based on encoding done to json object\n",
    "# headers --> is of type python dictionary, keys are case insensititve\n",
    "\n",
    "print(response.status_code)\n",
    "print()\n",
    "print(response.encoding)\n",
    "print()\n",
    "print(response.url)\n",
    "print()\n",
    "print(response.headers)\n",
    "print()\n",
    "print(response.text)\n"
   ]
  },
  {
   "cell_type": "code",
   "execution_count": 31,
   "metadata": {
    "tags": []
   },
   "outputs": [
    {
     "output_type": "stream",
     "name": "stdout",
     "text": "<class 'dict'>\n<class 'list'>\nNinja Competitive Programmer Track\nInception\nMachine Learning Course\nAdvanced  Front-End Web Development with React\nNucleus\nNinja Android Developer Career Track \nFull Stack Web Development Course\nProgramming Foundation DS & Algo + MERN Stack Web Dev\nData Science & Machine Learning Complete\nInterview Preparation\nCompetitive Programming\nProgramming Foundation DS & Algo + Full Stack Web Dev\nPython\nAndroid Development with Kotlin\nNinja Data Scientist Career Track\nProgramming Foundation DS & Algo + Machine Learning\nAptitude Preparation Course\n"
    }
   ],
   "source": [
    "import json\n",
    "python_data=json.loads(response.text)\n",
    "print(type(python_data))\n",
    "all_courses=python_data['data']['courses']\n",
    "print(type(all_courses))\n",
    "\n",
    "for i in all_courses:\n",
    "    print(i['title'])"
   ]
  },
  {
   "cell_type": "code",
   "execution_count": 18,
   "metadata": {
    "tags": []
   },
   "outputs": [],
   "source": [
    "p=requests.get('https://dog.ceo/api/breeds/list/all')\n",
    "# print(p.text)"
   ]
  },
  {
   "cell_type": "code",
   "execution_count": 22,
   "metadata": {
    "tags": []
   },
   "outputs": [
    {
     "output_type": "stream",
     "name": "stdout",
     "text": "<class 'dict'>\n"
    }
   ],
   "source": [
    "# instead of json.loads() , requests library has an inbuilt decoder json() --> this method will fail if content is not of json type\n",
    "\n",
    "python_data=p.json()\n",
    "print(type(python_data))"
   ]
  },
  {
   "cell_type": "code",
   "execution_count": 29,
   "metadata": {
    "tags": []
   },
   "outputs": [
    {
     "output_type": "stream",
     "name": "stdout",
     "text": "affenpinscher  :  0\nafrican  :  0\nairedale  :  0\nakita  :  0\nappenzeller  :  0\naustralian  :  1\nbasenji  :  0\nbeagle  :  0\nbluetick  :  0\nborzoi  :  0\nbouvier  :  0\nboxer  :  0\nbrabancon  :  0\nbriard  :  0\nbuhund  :  1\nbulldog  :  3\nbullterrier  :  1\ncairn  :  0\ncattledog  :  1\nchihuahua  :  0\nchow  :  0\nclumber  :  0\ncockapoo  :  0\ncollie  :  1\ncoonhound  :  0\ncorgi  :  1\ncotondetulear  :  0\ndachshund  :  0\ndalmatian  :  0\ndane  :  1\ndeerhound  :  1\ndhole  :  0\ndingo  :  0\ndoberman  :  0\nelkhound  :  1\nentlebucher  :  0\neskimo  :  0\nfinnish  :  1\nfrise  :  1\ngermanshepherd  :  0\ngreyhound  :  1\ngroenendael  :  0\nhavanese  :  0\nhound  :  7\nhusky  :  0\nkeeshond  :  0\nkelpie  :  0\nkomondor  :  0\nkuvasz  :  0\nlabrador  :  0\nleonberg  :  0\nlhasa  :  0\nmalamute  :  0\nmalinois  :  0\nmaltese  :  0\nmastiff  :  3\nmexicanhairless  :  0\nmix  :  0\nmountain  :  2\nnewfoundland  :  0\notterhound  :  0\novcharka  :  1\npapillon  :  0\npekinese  :  0\npembroke  :  0\npinscher  :  1\npitbull  :  0\npointer  :  2\npomeranian  :  0\npoodle  :  3\npug  :  0\npuggle  :  0\npyrenees  :  0\nredbone  :  0\nretriever  :  4\nridgeback  :  1\nrottweiler  :  0\nsaluki  :  0\nsamoyed  :  0\nschipperke  :  0\nschnauzer  :  2\nsetter  :  3\nsheepdog  :  2\nshiba  :  0\nshihtzu  :  0\nspaniel  :  7\nspringer  :  1\nstbernard  :  0\nterrier  :  21\nvizsla  :  0\nwaterdog  :  1\nweimaraner  :  0\nwhippet  :  0\nwolfhound  :  1\n['miniature', 'standard', 'toy']\n"
    }
   ],
   "source": [
    "# prints breed and count of sub breeds each breed have\n",
    "for key,val in python_data['message'].items():\n",
    "    print(key, \" : \", len(val))\n",
    "\n",
    "print(python_data['message']['poodle'])"
   ]
  }
 ]
}