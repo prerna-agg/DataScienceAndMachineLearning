{
 "metadata": {
  "language_info": {
   "codemirror_mode": {
    "name": "ipython",
    "version": 3
   },
   "file_extension": ".py",
   "mimetype": "text/x-python",
   "name": "python",
   "nbconvert_exporter": "python",
   "pygments_lexer": "ipython3",
   "version": 3
  },
  "orig_nbformat": 2
 },
 "nbformat": 4,
 "nbformat_minor": 2,
 "cells": [
  {
   "cell_type": "code",
   "execution_count": null,
   "metadata": {},
   "outputs": [],
   "source": [
    "import requests\n",
    "response=requests.get('http://codingninjas.in/api/v3/courses') \n",
    "\n",
    "# status code\n",
    "# encoding --> tell the encoding of the response data that we got from the server.\n",
    "# url --> to the url to which we made the api call\n",
    "# text --> to access data of the api, it decodes based on encoding done to json object\n",
    "# headers --> is of type python dictionary, keys are case insensititve\n",
    "\n",
    "print(response.status_code)\n",
    "print()\n",
    "print(response.encoding)\n",
    "print()\n",
    "print(response.url)\n",
    "print()\n",
    "print(response.headers)\n",
    "print()\n",
    "print(response.text)\n"
   ]
  }
 ]
}