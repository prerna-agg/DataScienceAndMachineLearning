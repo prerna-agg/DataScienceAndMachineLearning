{
 "cells": [
  {
   "cell_type": "code",
   "execution_count": 1,
   "metadata": {
    "tags": []
   },
   "outputs": [],
   "source": [
    "import requests\n",
    "import json\n",
    "%run configs.ipynb \n"
   ]
  },
  {
   "cell_type": "code",
   "execution_count": 2,
   "metadata": {
    "tags": []
   },
   "outputs": [
    {
     "output_type": "stream",
     "name": "stdout",
     "text": "https://github.com/login?client_id=963acbc7285ebf773090&return_to=%2Flogin%2Foauth%2Fauthorize%3Fclient_id%3D963acbc7285ebf773090%26redirect_uri%3Dhttps%253A%252F%252Fwww.google.com%252F%26scope%3Duser%26state%3Drandom_123\n"
    }
   ],
   "source": [
    "params={'client_id':gitClientId,'redirect_uri':'https://www.google.com/','scope':'user','state':'random_123'}\n",
    "response=requests.get('https://github.com/login/oauth/authorize',params=params)\n",
    "print(response.url)"
   ]
  },
  {
   "cell_type": "code",
   "execution_count": 4,
   "metadata": {
    "tags": []
   },
   "outputs": [
    {
     "output_type": "stream",
     "name": "stdout",
     "text": "error=bad_verification_code&error_description=The+code+passed+is+incorrect+or+expired.&error_uri=https%3A%2F%2Fdocs.github.com%2Fapps%2Fmanaging-oauth-apps%2Ftroubleshooting-oauth-app-access-token-request-errors%2F%23bad-verification-code\n"
    }
   ],
   "source": [
    "# code=1a6da2ee6eba0d90c86f\n",
    "data={'client_id':gitClientId,'client_secret':gitClientPassword,'code':'67ebef46a0d9761b1fd1','redirect_uri':'https://www.google.com/','state':'random_123'}\n",
    "response=requests.post('https://github.com/login/oauth/access_token',data=data)\n",
    "print(response.text)"
   ]
  },
  {
   "cell_type": "code",
   "execution_count": 5,
   "metadata": {
    "tags": []
   },
   "outputs": [
    {
     "output_type": "stream",
     "name": "stdout",
     "text": "SmoothScrollJs 16 5\nRubyTutorial 14 9\nPython3Tutorial 5 3\nHTMLandCssNotes 12 20\nBeacathon 2 8\nJSNotes 5 6\nlearnml 1 0\nRubyNotebook 2 5\nInterQues 68 160\ncoderoom 4 3\n"
    }
   ],
   "source": [
    "import requests\n",
    "import json\n",
    "res=requests.get(\"https://api.github.com/orgs/CodingNinjasCodes/repos\",headers={'Authorization':'219b05f2fffe0abb00c8785b48df9f4b7e1187a9'})\n",
    "# print(res.text)\n",
    "for i in res.json():\n",
    "    if i['fork'] == False:\n",
    "        print(i['name'],i['watchers_count'],i['forks_count'])"
   ]
  },
  {
   "cell_type": "code",
   "execution_count": 6,
   "metadata": {
    "tags": []
   },
   "outputs": [
    {
     "output_type": "stream",
     "name": "stdout",
     "text": "[{\"login\":\"aakash-cr7\",\"id\":7534680,\"node_id\":\"MDQ6VXNlcjc1MzQ2ODA=\",\"avatar_url\":\"https://avatars0.githubusercontent.com/u/7534680?v=4\",\"gravatar_id\":\"\",\"url\":\"https://api.github.com/users/aakash-cr7\",\"html_url\":\"https://github.com/aakash-cr7\",\"followers_url\":\"https://api.github.com/users/aakash-cr7/followers\",\"following_url\":\"https://api.github.com/users/aakash-cr7/following{/other_user}\",\"gists_url\":\"https://api.github.com/users/aakash-cr7/gists{/gist_id}\",\"starred_url\":\"https://api.github.com/users/aakash-cr7/starred{/owner}{/repo}\",\"subscriptions_url\":\"https://api.github.com/users/aakash-cr7/subscriptions\",\"organizations_url\":\"https://api.github.com/users/aakash-cr7/orgs\",\"repos_url\":\"https://api.github.com/users/aakash-cr7/repos\",\"events_url\":\"https://api.github.com/users/aakash-cr7/events{/privacy}\",\"received_events_url\":\"https://api.github.com/users/aakash-cr7/received_events\",\"type\":\"User\",\"site_admin\":false},{\"login\":\"dakshkhetan\",\"id\":43447509,\"node_id\":\"MDQ6VXNlcjQzNDQ3NTA5\",\"avatar_url\":\"https://avatars3.githubusercontent.com/u/43447509?v=4\",\"gravatar_id\":\"\",\"url\":\"https://api.github.com/users/dakshkhetan\",\"html_url\":\"https://github.com/dakshkhetan\",\"followers_url\":\"https://api.github.com/users/dakshkhetan/followers\",\"following_url\":\"https://api.github.com/users/dakshkhetan/following{/other_user}\",\"gists_url\":\"https://api.github.com/users/dakshkhetan/gists{/gist_id}\",\"starred_url\":\"https://api.github.com/users/dakshkhetan/starred{/owner}{/repo}\",\"subscriptions_url\":\"https://api.github.com/users/dakshkhetan/subscriptions\",\"organizations_url\":\"https://api.github.com/users/dakshkhetan/orgs\",\"repos_url\":\"https://api.github.com/users/dakshkhetan/repos\",\"events_url\":\"https://api.github.com/users/dakshkhetan/events{/privacy}\",\"received_events_url\":\"https://api.github.com/users/dakshkhetan/received_events\",\"type\":\"User\",\"site_admin\":false},{\"login\":\"ManishaKhattar\",\"id\":8034683,\"node_id\":\"MDQ6VXNlcjgwMzQ2ODM=\",\"avatar_url\":\"https://avatars2.githubusercontent.com/u/8034683?v=4\",\"gravatar_id\":\"\",\"url\":\"https://api.github.com/users/ManishaKhattar\",\"html_url\":\"https://github.com/ManishaKhattar\",\"followers_url\":\"https://api.github.com/users/ManishaKhattar/followers\",\"following_url\":\"https://api.github.com/users/ManishaKhattar/following{/other_user}\",\"gists_url\":\"https://api.github.com/users/ManishaKhattar/gists{/gist_id}\",\"starred_url\":\"https://api.github.com/users/ManishaKhattar/starred{/owner}{/repo}\",\"subscriptions_url\":\"https://api.github.com/users/ManishaKhattar/subscriptions\",\"organizations_url\":\"https://api.github.com/users/ManishaKhattar/orgs\",\"repos_url\":\"https://api.github.com/users/ManishaKhattar/repos\",\"events_url\":\"https://api.github.com/users/ManishaKhattar/events{/privacy}\",\"received_events_url\":\"https://api.github.com/users/ManishaKhattar/received_events\",\"type\":\"User\",\"site_admin\":false},{\"login\":\"namangupta01\",\"id\":20709985,\"node_id\":\"MDQ6VXNlcjIwNzA5OTg1\",\"avatar_url\":\"https://avatars3.githubusercontent.com/u/20709985?v=4\",\"gravatar_id\":\"\",\"url\":\"https://api.github.com/users/namangupta01\",\"html_url\":\"https://github.com/namangupta01\",\"followers_url\":\"https://api.github.com/users/namangupta01/followers\",\"following_url\":\"https://api.github.com/users/namangupta01/following{/other_user}\",\"gists_url\":\"https://api.github.com/users/namangupta01/gists{/gist_id}\",\"starred_url\":\"https://api.github.com/users/namangupta01/starred{/owner}{/repo}\",\"subscriptions_url\":\"https://api.github.com/users/namangupta01/subscriptions\",\"organizations_url\":\"https://api.github.com/users/namangupta01/orgs\",\"repos_url\":\"https://api.github.com/users/namangupta01/repos\",\"events_url\":\"https://api.github.com/users/namangupta01/events{/privacy}\",\"received_events_url\":\"https://api.github.com/users/namangupta01/received_events\",\"type\":\"User\",\"site_admin\":false},{\"login\":\"nidhiagarwal\",\"id\":6631534,\"node_id\":\"MDQ6VXNlcjY2MzE1MzQ=\",\"avatar_url\":\"https://avatars1.githubusercontent.com/u/6631534?v=4\",\"gravatar_id\":\"\",\"url\":\"https://api.github.com/users/nidhiagarwal\",\"html_url\":\"https://github.com/nidhiagarwal\",\"followers_url\":\"https://api.github.com/users/nidhiagarwal/followers\",\"following_url\":\"https://api.github.com/users/nidhiagarwal/following{/other_user}\",\"gists_url\":\"https://api.github.com/users/nidhiagarwal/gists{/gist_id}\",\"starred_url\":\"https://api.github.com/users/nidhiagarwal/starred{/owner}{/repo}\",\"subscriptions_url\":\"https://api.github.com/users/nidhiagarwal/subscriptions\",\"organizations_url\":\"https://api.github.com/users/nidhiagarwal/orgs\",\"repos_url\":\"https://api.github.com/users/nidhiagarwal/repos\",\"events_url\":\"https://api.github.com/users/nidhiagarwal/events{/privacy}\",\"received_events_url\":\"https://api.github.com/users/nidhiagarwal/received_events\",\"type\":\"User\",\"site_admin\":false},{\"login\":\"rohanraarora\",\"id\":6624213,\"node_id\":\"MDQ6VXNlcjY2MjQyMTM=\",\"avatar_url\":\"https://avatars3.githubusercontent.com/u/6624213?v=4\",\"gravatar_id\":\"\",\"url\":\"https://api.github.com/users/rohanraarora\",\"html_url\":\"https://github.com/rohanraarora\",\"followers_url\":\"https://api.github.com/users/rohanraarora/followers\",\"following_url\":\"https://api.github.com/users/rohanraarora/following{/other_user}\",\"gists_url\":\"https://api.github.com/users/rohanraarora/gists{/gist_id}\",\"starred_url\":\"https://api.github.com/users/rohanraarora/starred{/owner}{/repo}\",\"subscriptions_url\":\"https://api.github.com/users/rohanraarora/subscriptions\",\"organizations_url\":\"https://api.github.com/users/rohanraarora/orgs\",\"repos_url\":\"https://api.github.com/users/rohanraarora/repos\",\"events_url\":\"https://api.github.com/users/rohanraarora/events{/privacy}\",\"received_events_url\":\"https://api.github.com/users/rohanraarora/received_events\",\"type\":\"User\",\"site_admin\":false}]\n"
    }
   ],
   "source": [
    "\n",
    "import requests\n",
    "import json\n",
    "res=requests.get(\"https://api.github.com/orgs/CodingNinjasCodes/members\",{'Authorization':'219b05f2fffe0abb00c8785b48df9f4b7e1187a9'})\n",
    "print(res.text)\n"
   ]
  },
  {
   "cell_type": "code",
   "execution_count": null,
   "metadata": {},
   "outputs": [],
   "source": [
    "import requests\n",
    "import json\n",
    "\n",
    "res=requests.get(\"https://api.github.com/repos/CodingNinjasCodes/SmoothScrollJs/community/profile\",headers={'Authorization':'219b05f2fffe0abb00c8785b48df9f4b7e1187a9','accept':'application/vnd.github.v3+json'})\n",
    "print(res.json().get('health_percentage'))"
   ]
  },
  {
   "cell_type": "code",
   "execution_count": null,
   "metadata": {},
   "outputs": [],
   "source": [
    "import requests\n",
    "import json\n",
    "\n",
    "res=requests.get(\"https://api.github.com/repos/CodingNinjasCodes/JSNotes/stats/contributors\",headers={'Authorization':'219b05f2fffe0abb00c8785b48df9f4b7e1187a9','accept':'application/vnd.github.v3+json'})\n",
    "\n",
    "for r in res.json():\n",
    "    print(r['author']['login'],r['total'])"
   ]
  },
  {
   "cell_type": "code",
   "execution_count": null,
   "metadata": {},
   "outputs": [],
   "source": [
    "import requests\n",
    "import json\n",
    "\n",
    "res=requests.get(\"https://api.github.com/orgs/fossasia/repos\",headers={'Authorization':'219b05f2fffe0abb00c8785b48df9f4b7e1187a9','accept':'application/vnd.github.v3+json'})\n",
    "print(res.json())\n",
    "# for r in res.json():\n",
    "#     print(r['name'])"
   ]
  },
  {
   "cell_type": "code",
   "execution_count": null,
   "metadata": {},
   "outputs": [],
   "source": []
  }
 ],
 "metadata": {
  "kernelspec": {
   "display_name": "Python (myenv)",
   "language": "python",
   "name": "myenv"
  },
  "language_info": {
   "codemirror_mode": {
    "name": "ipython",
    "version": 3
   },
   "file_extension": ".py",
   "mimetype": "text/x-python",
   "name": "python",
   "nbconvert_exporter": "python",
   "pygments_lexer": "ipython3",
   "version": "3.7.6"
  }
 },
 "nbformat": 4,
 "nbformat_minor": 2
}