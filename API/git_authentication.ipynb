{
 "cells": [
  {
   "cell_type": "code",
   "execution_count": null,
   "metadata": {
    "tags": []
   },
   "outputs": [],
   "source": [
    "import requests\n",
    "import json\n",
    "%run configs.ipynb \n"
   ]
  },
  {
   "cell_type": "code",
   "execution_count": null,
   "metadata": {
    "tags": []
   },
   "outputs": [],
   "source": [
    "params={'client_id':gitClientId,'redirect_uri':'https://www.google.com/','scope':'user','state':'random_123'}\n",
    "response=requests.get('https://github.com/login/oauth/authorize',params=params)\n",
    "print(response.url)"
   ]
  },
  {
   "cell_type": "code",
   "execution_count": null,
   "metadata": {
    "tags": []
   },
   "outputs": [],
   "source": [
    "# code=1a6da2ee6eba0d90c86f\n",
    "data={'client_id':gitClientId,'client_secret':gitClientPassword,'code':'67ebef46a0d9761b1fd1','redirect_uri':'https://www.google.com/','state':'random_123'}\n",
    "response=requests.post('https://github.com/login/oauth/access_token',data=data)\n",
    "print(response.text)"
   ]
  },
  {
   "cell_type": "code",
   "execution_count": null,
   "metadata": {
    "tags": []
   },
   "outputs": [],
   "source": [
    "import requests\n",
    "import json\n",
    "res=requests.get(\"https://api.github.com/orgs/CodingNinjasCodes/repos\",headers={'Authorization':'219b05f2fffe0abb00c8785b48df9f4b7e1187a9'})\n",
    "# print(res.text)\n",
    "for i in res.json():\n",
    "    if i['fork'] == False:\n",
    "        print(i['name'],i['watchers_count'],i['forks_count'])"
   ]
  },
  {
   "cell_type": "code",
   "execution_count": null,
   "metadata": {
    "tags": [
     "outputPrepend"
    ]
   },
   "outputs": [],
   "source": [
    "\n",
    "import requests\n",
    "import json\n",
    "res=requests.get(\"https://api.github.com/orgs/CodingNinjasCodes/members\",{'Authorization':'219b05f2fffe0abb00c8785b48df9f4b7e1187a9'})\n",
    "print(res.text)\n"
   ]
  },
  {
   "cell_type": "code",
   "execution_count": null,
   "metadata": {},
   "outputs": [],
   "source": [
    "import requests\n",
    "import json\n",
    "\n",
    "res=requests.get(\"https://api.github.com/repos/CodingNinjasCodes/SmoothScrollJs/community/profile\",headers={'Authorization':'219b05f2fffe0abb00c8785b48df9f4b7e1187a9','accept':'application/vnd.github.v3+json'})\n",
    "print(res.json().get('health_percentage'))"
   ]
  },
  {
   "cell_type": "code",
   "execution_count": null,
   "metadata": {},
   "outputs": [],
   "source": [
    "import requests\n",
    "import json\n",
    "\n",
    "res=requests.get(\"https://api.github.com/repos/CodingNinjasCodes/JSNotes/stats/contributors\",headers={'Authorization':'219b05f2fffe0abb00c8785b48df9f4b7e1187a9','accept':'application/vnd.github.v3+json'})\n",
    "\n",
    "for r in res.json():\n",
    "    print(r['author']['login'],r['total'])"
   ]
  },
  {
   "cell_type": "code",
   "execution_count": null,
   "metadata": {},
   "outputs": [],
   "source": [
    "import requests\n",
    "import json\n",
    "\n",
    "res=requests.get(\"https://api.github.com/orgs/fossasia/repos\",headers={'Authorization':'219b05f2fffe0abb00c8785b48df9f4b7e1187a9','accept':'application/vnd.github.v3+json'})\n",
    "print(res.json())\n",
    "# for r in res.json():\n",
    "#     print(r['name'])"
   ]
  },
  {
   "cell_type": "code",
   "execution_count": null,
   "metadata": {},
   "outputs": [],
   "source": []
  }
 ],
 "metadata": {
  "kernelspec": {
   "display_name": "Python (myenv)",
   "language": "python",
   "name": "myenv"
  },
  "language_info": {
   "codemirror_mode": {
    "name": "ipython",
    "version": 3
   },
   "file_extension": ".py",
   "mimetype": "text/x-python",
   "name": "python",
   "nbconvert_exporter": "python",
   "pygments_lexer": "ipython3",
   "version": "3.7.6"
  }
 },
 "nbformat": 4,
 "nbformat_minor": 2
}