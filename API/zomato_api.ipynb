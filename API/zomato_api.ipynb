{
 "cells": [
  {
   "cell_type": "code",
   "execution_count": 4,
   "metadata": {},
   "outputs": [],
   "source": [
    "import requests\n",
    "import json\n",
    "%run configs.ipynb"
   ]
  },
  {
   "cell_type": "code",
   "execution_count": 19,
   "metadata": {},
   "outputs": [
    {
     "name": "stdout",
     "output_type": "stream",
     "text": [
      "73\n"
     ]
    }
   ],
   "source": [
    "headers={'user-key':zomatoApiKey,'Accept': 'application/json'}\n",
    "#first get the city id for mexico\n",
    "query={'city_id':'1'}\n",
    "res=requests.get('https://developers.zomato.com/api/v2.1/cuisines',headers=headers,params=query)\n",
    "\n",
    "for cuisine in res.json().get('cuisines'):\n",
    "    if cuisine['cuisine']['cuisine_name']=='Mexican':\n",
    "        print(cuisine['cuisine']['cuisine_id'])\n",
    "    "
   ]
  },
  {
   "cell_type": "code",
   "execution_count": 23,
   "metadata": {},
   "outputs": [
    {
     "name": "stdout",
     "output_type": "stream",
     "text": [
      "subzone 104\n"
     ]
    }
   ],
   "source": [
    "\n",
    "import requests\n",
    "import json\n",
    "headers={'user-key':'a4356ceff8fe3ac3b37168de92ddf8b9','Accept': 'application/json'}\n",
    "#first get the city id for mexico\n",
    "query={'query':'Connaught Place'}\n",
    "res=requests.get('https://developers.zomato.com/api/v2.1/locations',headers=headers,params=query)\n",
    "locs=res.json().get('location_suggestions')\n",
    "for loc in locs:\n",
    "    if loc.get('title')=='Connaught Place, New Delhi' :\n",
    "        print(loc.get('entity_type'),loc.get('entity_id'))"
   ]
  },
  {
   "cell_type": "code",
   "execution_count": 52,
   "metadata": {},
   "outputs": [
    {
     "name": "stdout",
     "output_type": "stream",
     "text": [
      "Farzi Cafe 4.5 18233593\n",
      "Chili's Grill & Bar 4.5 18537536\n",
      "Ministry Of Beer 4.4 18418277\n",
      "Xero Degrees 4.3 18729557\n",
      "Unplugged Courtyard 4.2 18216901\n",
      "Pebble Street 4.2 309859\n",
      "Chaayos - Meri Wali Chai 4.2 18237315\n",
      "The Beer Cafe - BIGGIE 4.2 307060\n",
      "Rodeo Cantina & Kitchen 4.1 18673403\n",
      "38 Barracks 4.1 18241537\n"
     ]
    }
   ],
   "source": [
    "import requests\n",
    "import json\n",
    "headers={'user-key':'a4356ceff8fe3ac3b37168de92ddf8b9','Accept': 'application/json'}\n",
    "#first get the city id for mexico\n",
    "query={'entity_type':'subzone','entity_id':'104','cuisines':'73','sort':'rating','count':'10'}\n",
    "res=requests.get('https://developers.zomato.com/api/v2.1/search',headers=headers,params=query)\n",
    "for res in res.json().get('restaurants'):\n",
    "    print(res.get('restaurant').get('name'),res.get('restaurant').get('user_rating').get('aggregate_rating'),res.get('restaurant').get('id'))"
   ]
  },
  {
   "cell_type": "code",
   "execution_count": 61,
   "metadata": {},
   "outputs": [
    {
     "name": "stdout",
     "output_type": "stream",
     "text": [
      "6\n"
     ]
    }
   ],
   "source": [
    "import requests\n",
    "import json\n",
    "headers={'user-key':'a4356ceff8fe3ac3b37168de92ddf8b9','Accept': 'application/json'}\n",
    "\n",
    "res=requests.get('https://developers.zomato.com/api/v2.1/categories',headers=headers)\n",
    "\n",
    "for cat in res.json().get('categories'):\n",
    "    if cat.get('categories').get('name')=='Cafes':\n",
    "        print(cat.get('categories').get('id'))"
   ]
  },
  {
   "cell_type": "code",
   "execution_count": 100,
   "metadata": {},
   "outputs": [
    {
     "name": "stdout",
     "output_type": "stream",
     "text": [
      "Xero Degrees 4.3 18729557\n",
      "Chaayos - Meri Wali Chai 4.2 18237315\n",
      "The Art House Bar n Cafe 4.0 18863766\n",
      "Cafe Coffee Day - The Square 3.5 303034\n"
     ]
    }
   ],
   "source": [
    "import requests\n",
    "import json\n",
    "headers={'user-key':'a4356ceff8fe3ac3b37168de92ddf8b9','Accept': 'application/json'}\n",
    "#first get the city id for mexico\n",
    "query={'entity_type':'subzone','entity_id':'104','cuisines':'73','sort':'rating','count':'10','category':'6'}\n",
    "res=requests.get('https://developers.zomato.com/api/v2.1/search',headers=headers,params=query)\n",
    "for res in res.json().get('restaurants'):\n",
    "    print(res.get('restaurant').get('name'),res.get('restaurant').get('user_rating').get('aggregate_rating'),res.get('restaurant').get('id'))"
   ]
  },
  {
   "cell_type": "code",
   "execution_count": 12,
   "metadata": {},
   "outputs": [
    {
     "name": "stdout",
     "output_type": "stream",
     "text": [
      "[{'restaurant': {'R': {'has_menu_status': {'delivery': -1, 'takeaway': -1}, 'res_id': 18429148, 'is_grocery_store': False}, 'apikey': 'a4356ceff8fe3ac3b37168de92ddf8b9', 'id': '18429148', 'name': 'Pa Pa Ya', 'url': 'https://www.zomato.com/ncr/pa-pa-ya-saket-new-delhi?utm_source=api_basic_user&utm_medium=api&utm_campaign=v2.1', 'location': {'address': 'A-3, Select Citywalk, District Centre, Saket, New Delhi', 'locality': 'Select Citywalk Mall, Saket', 'city': 'New Delhi', 'city_id': 1, 'latitude': '28.5285368249', 'longitude': '77.2184998915', 'zipcode': '', 'country_id': 1, 'locality_verbose': 'Select Citywalk Mall, Saket, New Delhi'}, 'switch_to_order_menu': 0, 'cuisines': 'Asian, Chinese, Thai, Japanese', 'timings': '12Noon to 1AM (Mon-Sun)', 'average_cost_for_two': 2500, 'price_range': 4, 'currency': 'Rs.', 'highlights': ['Lunch', 'Mall Parking', 'Dinner', 'Cash', 'Credit Card', 'Debit Card', 'Fullbar', 'Table booking recommended', 'Smoking Area', 'Brunch', 'Indoor Seating', 'Air Conditioned'], 'offers': [], 'opentable_support': 0, 'is_zomato_book_res': 0, 'mezzo_provider': 'OTHER', 'is_book_form_web_view': 0, 'book_form_web_view_url': '', 'book_again_url': '', 'thumb': 'https://b.zmtcdn.com/data/res_imagery/18429148_RESTAURANT_433edbeec2decc62911522378eca7fa8.jpg?fit=around%7C200%3A200&crop=200%3A200%3B%2A%2C%2A', 'user_rating': {'aggregate_rating': '4.9', 'rating_text': 'Excellent', 'rating_color': '3F7E00', 'rating_obj': {'title': {'text': '4.9'}, 'bg_color': {'type': 'lime', 'tint': '800'}}, 'votes': 3906}, 'all_reviews_count': 2272, 'photos_url': 'https://www.zomato.com/ncr/pa-pa-ya-saket-new-delhi/photos?utm_source=api_basic_user&utm_medium=api&utm_campaign=v2.1#tabtop', 'photo_count': 8683, 'menu_url': 'https://www.zomato.com/ncr/pa-pa-ya-saket-new-delhi/menu?utm_source=api_basic_user&utm_medium=api&utm_campaign=v2.1&openSwipeBox=menu&showMinimal=1#tabtop', 'featured_image': 'https://b.zmtcdn.com/data/res_imagery/18429148_RESTAURANT_433edbeec2decc62911522378eca7fa8.jpg', 'medio_provider': 1, 'has_online_delivery': 0, 'is_delivering_now': 0, 'store_type': '', 'include_bogo_offers': True, 'deeplink': 'zomato://restaurant/18429148', 'is_table_reservation_supported': 1, 'has_table_booking': 0, 'events_url': 'https://www.zomato.com/ncr/pa-pa-ya-saket-new-delhi/events#tabtop?utm_source=api_basic_user&utm_medium=api&utm_campaign=v2.1', 'phone_numbers': '+91 8800002881, +91 8800002882, 011 40502064', 'all_reviews': {'reviews': [{'review': []}, {'review': []}, {'review': []}, {'review': []}, {'review': []}]}, 'establishment': ['Casual Dining'], 'establishment_types': []}}, {'restaurant': {'R': {'has_menu_status': {'delivery': -1, 'takeaway': -1}, 'res_id': 19299082, 'is_grocery_store': False}, 'apikey': 'a4356ceff8fe3ac3b37168de92ddf8b9', 'id': '19299082', 'name': 'PA Dosa Point', 'url': 'https://www.zomato.com/ncr/pa-dosa-point-rohini-new-delhi?utm_source=api_basic_user&utm_medium=api&utm_campaign=v2.1', 'location': {'address': 'G-29/13, Pocket 29, Sector 3, Rohini, New Delhi', 'locality': 'Rohini', 'city': 'New Delhi', 'city_id': 1, 'latitude': '28.7057700000', 'longitude': '77.1029430000', 'zipcode': '110085', 'country_id': 1, 'locality_verbose': 'Rohini, New Delhi'}, 'switch_to_order_menu': 0, 'cuisines': 'South Indian', 'timings': '11 AM to 11 PM', 'average_cost_for_two': 250, 'price_range': 1, 'currency': 'Rs.', 'highlights': ['Delivery', 'Dinner', 'Standing Tables', 'Takeaway Available', 'Lunch', 'Cash', 'Digital Payments Accepted', 'Pure Veg'], 'offers': [], 'opentable_support': 0, 'is_zomato_book_res': 0, 'mezzo_provider': 'OTHER', 'is_book_form_web_view': 0, 'book_form_web_view_url': '', 'book_again_url': '', 'thumb': 'https://b.zmtcdn.com/data/pictures/2/19299082/c20779469a57e72efebd18ddb472e965.jpg?fit=around%7C200%3A200&crop=200%3A200%3B%2A%2C%2A', 'user_rating': {'aggregate_rating': '3.3', 'rating_text': 'Average', 'rating_color': 'CDD614', 'rating_obj': {'title': {'text': '3.3'}, 'bg_color': {'type': 'lime', 'tint': '500'}}, 'votes': 72}, 'all_reviews_count': 16, 'photos_url': 'https://www.zomato.com/ncr/pa-dosa-point-rohini-new-delhi/photos?utm_source=api_basic_user&utm_medium=api&utm_campaign=v2.1#tabtop', 'photo_count': 2, 'menu_url': 'https://www.zomato.com/ncr/pa-dosa-point-rohini-new-delhi/menu?utm_source=api_basic_user&utm_medium=api&utm_campaign=v2.1&openSwipeBox=menu&showMinimal=1#tabtop', 'featured_image': 'https://b.zmtcdn.com/data/pictures/2/19299082/c20779469a57e72efebd18ddb472e965.jpg', 'has_online_delivery': 1, 'is_delivering_now': 0, 'store_type': '', 'include_bogo_offers': True, 'deeplink': 'zomato://restaurant/19299082', 'is_table_reservation_supported': 0, 'has_table_booking': 0, 'events_url': 'https://www.zomato.com/ncr/pa-dosa-point-rohini-new-delhi/events#tabtop?utm_source=api_basic_user&utm_medium=api&utm_campaign=v2.1', 'phone_numbers': '+91 9350962567, +91 9034608127', 'all_reviews': {'reviews': [{'review': []}, {'review': []}, {'review': []}, {'review': []}, {'review': []}]}, 'establishment': ['Quick Bites'], 'establishment_types': []}}, {'restaurant': {'R': {'has_menu_status': {'delivery': -1, 'takeaway': -1}, 'res_id': 18727333, 'is_grocery_store': False}, 'apikey': 'a4356ceff8fe3ac3b37168de92ddf8b9', 'id': '18727333', 'name': 'Ya Mal Alsham Syrian Restaurant', 'url': 'https://www.zomato.com/ncr/ya-mal-alsham-syrian-restaurant-new-friends-colony-new-delhi?utm_source=api_basic_user&utm_medium=api&utm_campaign=v2.1', 'location': {'address': '88, Ground Floor, Sara I Jullena, Opposite Gate 2, Escort Fortis Hospital, New Friends Colony, New Delhi', 'locality': 'New Friends Colony', 'city': 'New Delhi', 'city_id': 1, 'latitude': '28.5596431869', 'longitude': '77.2730955854', 'zipcode': '', 'country_id': 1, 'locality_verbose': 'New Friends Colony, New Delhi'}, 'switch_to_order_menu': 0, 'cuisines': 'Middle Eastern', 'timings': '8 AM to 11 PM', 'average_cost_for_two': 500, 'price_range': 2, 'currency': 'Rs.', 'highlights': ['Dinner', 'Delivery', 'Breakfast', 'Lunch', 'Cash', 'Takeaway Available', 'Indoor Seating'], 'offers': [], 'opentable_support': 0, 'is_zomato_book_res': 0, 'mezzo_provider': 'OTHER', 'is_book_form_web_view': 0, 'book_form_web_view_url': '', 'book_again_url': '', 'thumb': 'https://b.zmtcdn.com/data/pictures/3/18727333/d7dde833b506c82145be49f8cdcc08d6.jpg?fit=around%7C200%3A200&crop=200%3A200%3B%2A%2C%2A', 'user_rating': {'aggregate_rating': '3.4', 'rating_text': 'Average', 'rating_color': 'CDD614', 'rating_obj': {'title': {'text': '3.4'}, 'bg_color': {'type': 'lime', 'tint': '500'}}, 'votes': 13}, 'all_reviews_count': 6, 'photos_url': 'https://www.zomato.com/ncr/ya-mal-alsham-syrian-restaurant-new-friends-colony-new-delhi/photos?utm_source=api_basic_user&utm_medium=api&utm_campaign=v2.1#tabtop', 'photo_count': 20, 'menu_url': 'https://www.zomato.com/ncr/ya-mal-alsham-syrian-restaurant-new-friends-colony-new-delhi/menu?utm_source=api_basic_user&utm_medium=api&utm_campaign=v2.1&openSwipeBox=menu&showMinimal=1#tabtop', 'featured_image': 'https://b.zmtcdn.com/data/pictures/3/18727333/d7dde833b506c82145be49f8cdcc08d6.jpg', 'has_online_delivery': 0, 'is_delivering_now': 0, 'store_type': '', 'include_bogo_offers': True, 'deeplink': 'zomato://restaurant/18727333', 'is_table_reservation_supported': 0, 'has_table_booking': 0, 'events_url': 'https://www.zomato.com/ncr/ya-mal-alsham-syrian-restaurant-new-friends-colony-new-delhi/events#tabtop?utm_source=api_basic_user&utm_medium=api&utm_campaign=v2.1', 'phone_numbers': '+91 8800800266, +91 8800800277', 'all_reviews': {'reviews': [{'review': []}, {'review': []}, {'review': []}, {'review': []}, {'review': []}]}, 'establishment': ['Quick Bites'], 'establishment_types': []}}, {'restaurant': {'R': {'has_menu_status': {'delivery': -1, 'takeaway': -1}, 'res_id': 18725796, 'is_grocery_store': False}, 'apikey': 'a4356ceff8fe3ac3b37168de92ddf8b9', 'id': '18725796', 'name': 'Ya Mal Alsham Syrian Food', 'url': 'https://www.zomato.com/ncr/ya-mal-alsham-syrian-food-karol-bagh-new-delhi?utm_source=api_basic_user&utm_medium=api&utm_campaign=v2.1', 'location': {'address': 'Shop 1, 5A-5, Pooja Park WEA, Karol Bagh, New Delhi', 'locality': 'Karol Bagh', 'city': 'New Delhi', 'city_id': 1, 'latitude': '28.6457894317', 'longitude': '77.1876088902', 'zipcode': '', 'country_id': 1, 'locality_verbose': 'Karol Bagh, New Delhi'}, 'switch_to_order_menu': 0, 'cuisines': 'Middle Eastern', 'timings': '8 AM to 11 PM', 'average_cost_for_two': 400, 'price_range': 1, 'currency': 'Rs.', 'highlights': ['Takeaway Available', 'Lunch', 'Cash', 'Breakfast', 'Dinner', 'Delivery', 'Indoor Seating'], 'offers': [], 'opentable_support': 0, 'is_zomato_book_res': 0, 'mezzo_provider': 'OTHER', 'is_book_form_web_view': 0, 'book_form_web_view_url': '', 'book_again_url': '', 'thumb': '', 'user_rating': {'aggregate_rating': '3.7', 'rating_text': 'Good', 'rating_color': '9ACD32', 'rating_obj': {'title': {'text': '3.7'}, 'bg_color': {'type': 'lime', 'tint': '600'}}, 'votes': 361}, 'all_reviews_count': 22, 'photos_url': 'https://www.zomato.com/ncr/ya-mal-alsham-syrian-food-karol-bagh-new-delhi/photos?utm_source=api_basic_user&utm_medium=api&utm_campaign=v2.1#tabtop', 'photo_count': 7, 'menu_url': 'https://www.zomato.com/ncr/ya-mal-alsham-syrian-food-karol-bagh-new-delhi/menu?utm_source=api_basic_user&utm_medium=api&utm_campaign=v2.1&openSwipeBox=menu&showMinimal=1#tabtop', 'featured_image': '', 'has_online_delivery': 1, 'is_delivering_now': 0, 'store_type': '', 'include_bogo_offers': True, 'deeplink': 'zomato://restaurant/18725796', 'is_table_reservation_supported': 0, 'has_table_booking': 0, 'events_url': 'https://www.zomato.com/ncr/ya-mal-alsham-syrian-food-karol-bagh-new-delhi/events#tabtop?utm_source=api_basic_user&utm_medium=api&utm_campaign=v2.1', 'phone_numbers': '+91 8800040285', 'all_reviews': {'reviews': [{'review': []}, {'review': []}, {'review': []}, {'review': []}, {'review': []}]}, 'establishment': ['Quick Bites'], 'establishment_types': []}}, {'restaurant': {'R': {'has_menu_status': {'delivery': -1, 'takeaway': -1}, 'res_id': 19006569, 'is_grocery_store': False}, 'apikey': 'a4356ceff8fe3ac3b37168de92ddf8b9', 'id': '19006569', 'name': 'Veer Ji Malai Chap Wale', 'url': 'https://www.zomato.com/ncr/veer-ji-malai-chap-wale-sector-7-gurgaon?utm_source=api_basic_user&utm_medium=api&utm_campaign=v2.1', 'location': {'address': 'Plot 6PA, New Colony, Sector 7, Gurgaon', 'locality': 'Sector 7', 'city': 'Gurgaon', 'city_id': 1, 'latitude': '28.4681478069', 'longitude': '77.0161573961', 'zipcode': '', 'country_id': 1, 'locality_verbose': 'Sector 7, Gurgaon'}, 'switch_to_order_menu': 0, 'cuisines': 'North Indian, Rolls', 'timings': '11am – 11pm (Mon-Sun)', 'average_cost_for_two': 300, 'price_range': 1, 'currency': 'Rs.', 'highlights': ['Lunch', 'Cash', 'Takeaway Available', 'Dinner', 'Delivery', 'Outdoor Seating', 'Indoor Seating', 'Digital Payments Accepted'], 'offers': [], 'opentable_support': 0, 'is_zomato_book_res': 0, 'mezzo_provider': 'OTHER', 'is_book_form_web_view': 0, 'book_form_web_view_url': '', 'book_again_url': '', 'thumb': '', 'user_rating': {'aggregate_rating': '3.5', 'rating_text': 'Good', 'rating_color': '9ACD32', 'rating_obj': {'title': {'text': '3.5'}, 'bg_color': {'type': 'lime', 'tint': '500'}}, 'votes': 3442}, 'all_reviews_count': 127, 'photos_url': 'https://www.zomato.com/ncr/veer-ji-malai-chap-wale-sector-7-gurgaon/photos?utm_source=api_basic_user&utm_medium=api&utm_campaign=v2.1#tabtop', 'photo_count': 12, 'menu_url': 'https://www.zomato.com/ncr/veer-ji-malai-chap-wale-sector-7-gurgaon/menu?utm_source=api_basic_user&utm_medium=api&utm_campaign=v2.1&openSwipeBox=menu&showMinimal=1#tabtop', 'featured_image': '', 'has_online_delivery': 1, 'is_delivering_now': 0, 'store_type': '', 'include_bogo_offers': True, 'deeplink': 'zomato://restaurant/19006569', 'is_table_reservation_supported': 0, 'has_table_booking': 0, 'events_url': 'https://www.zomato.com/ncr/veer-ji-malai-chap-wale-sector-7-gurgaon/events#tabtop?utm_source=api_basic_user&utm_medium=api&utm_campaign=v2.1', 'phone_numbers': '+91 9811563500, +91 9811782500', 'all_reviews': {'reviews': [{'review': []}, {'review': []}, {'review': []}, {'review': []}, {'review': []}]}, 'establishment': ['Quick Bites'], 'establishment_types': []}}, {'restaurant': {'R': {'has_menu_status': {'delivery': -1, 'takeaway': -1}, 'res_id': 308688, 'is_grocery_store': False}, 'apikey': 'a4356ceff8fe3ac3b37168de92ddf8b9', 'id': '308688', 'name': 'Fruit Inbox', 'url': 'https://www.zomato.com/ncr/fruit-inbox-sector-29-gurgaon?utm_source=api_basic_user&utm_medium=api&utm_campaign=v2.1', 'location': {'address': 'Ground Floor, HUDA City Centre Metro Station, Sector 29, Gurgaon', 'locality': 'Huda City Centre Metro Station, Sector 29, Gurgaon', 'city': 'Gurgaon', 'city_id': 1, 'latitude': '28.4593333805', 'longitude': '77.0727952570', 'zipcode': '', 'country_id': 1, 'locality_verbose': 'Huda City Centre Metro Station, Sector 29, Gurgaon, Gurgaon'}, 'switch_to_order_menu': 0, 'cuisines': 'Healthy Food, Salad, Fast Food, Beverages', 'timings': '8am – 11pm (Mon-Sun)', 'average_cost_for_two': 550, 'price_range': 2, 'currency': 'Rs.', 'highlights': ['Takeaway Available', 'Credit Card', 'Debit Card', 'Lunch', 'Cash', 'Delivery', 'Breakfast', 'Dinner', 'Outdoor Seating', 'Digital Payments Accepted', 'Wifi', 'Pure Veg', 'Indoor Seating', 'Air Conditioned', 'Wheelchair Accessible'], 'offers': [], 'opentable_support': 0, 'is_zomato_book_res': 0, 'mezzo_provider': 'OTHER', 'is_book_form_web_view': 0, 'book_form_web_view_url': '', 'book_again_url': '', 'thumb': 'https://b.zmtcdn.com/data/pictures/8/308688/3eb59c36bb18daa3e8c545cbf2adfe9f.jpg?fit=around%7C200%3A200&crop=200%3A200%3B%2A%2C%2A', 'user_rating': {'aggregate_rating': '4.1', 'rating_text': 'Very Good', 'rating_color': '5BA829', 'rating_obj': {'title': {'text': '4.1'}, 'bg_color': {'type': 'lime', 'tint': '700'}}, 'votes': 3709}, 'all_reviews_count': 179, 'photos_url': 'https://www.zomato.com/ncr/fruit-inbox-sector-29-gurgaon/photos?utm_source=api_basic_user&utm_medium=api&utm_campaign=v2.1#tabtop', 'photo_count': 130, 'menu_url': 'https://www.zomato.com/ncr/fruit-inbox-sector-29-gurgaon/menu?utm_source=api_basic_user&utm_medium=api&utm_campaign=v2.1&openSwipeBox=menu&showMinimal=1#tabtop', 'featured_image': 'https://b.zmtcdn.com/data/pictures/8/308688/3eb59c36bb18daa3e8c545cbf2adfe9f.jpg', 'has_online_delivery': 1, 'is_delivering_now': 0, 'store_type': '', 'include_bogo_offers': True, 'deeplink': 'zomato://restaurant/308688', 'is_table_reservation_supported': 0, 'has_table_booking': 0, 'events_url': 'https://www.zomato.com/ncr/fruit-inbox-sector-29-gurgaon/events#tabtop?utm_source=api_basic_user&utm_medium=api&utm_campaign=v2.1', 'phone_numbers': '+91 9899872207, 0124 2970788, +91 9810133232', 'all_reviews': {'reviews': [{'review': []}, {'review': []}, {'review': []}, {'review': []}, {'review': []}]}, 'establishment': ['Food Court'], 'establishment_types': []}}, {'restaurant': {'R': {'has_menu_status': {'delivery': 0, 'takeaway': -1}, 'res_id': 19345264, 'is_grocery_store': False}, 'apikey': 'a4356ceff8fe3ac3b37168de92ddf8b9', 'id': '19345264', 'name': 'Leaf N Loaf', 'url': 'https://www.zomato.com/ncr/leaf-n-loaf-sector-23-gurgaon?utm_source=api_basic_user&utm_medium=api&utm_campaign=v2.1', 'location': {'address': 'Shop 15, First Floor, Huda Main Market, Sector 23, Gurgaon', 'locality': 'Sector 23', 'city': 'Gurgaon', 'city_id': 1, 'latitude': '28.5107610000', 'longitude': '77.0494310000', 'zipcode': '', 'country_id': 1, 'locality_verbose': 'Sector 23, Gurgaon'}, 'switch_to_order_menu': 0, 'cuisines': 'Healthy Food, Continental, Salad, Juices', 'timings': '9am – 9pm (Mon-Sat),Closed (Sun)', 'average_cost_for_two': 700, 'price_range': 2, 'currency': 'Rs.', 'highlights': ['No Seating Available', 'Dinner', 'Delivery', 'Breakfast', 'Lunch', 'Cash', 'Takeaway Available'], 'offers': [], 'opentable_support': 0, 'is_zomato_book_res': 0, 'mezzo_provider': 'OTHER', 'is_book_form_web_view': 0, 'book_form_web_view_url': '', 'book_again_url': '', 'thumb': 'https://b.zmtcdn.com/data/pictures/4/18725664/3e70bf3801ed273be212d8dd5b86cf6c.jpg?fit=around%7C200%3A200&crop=200%3A200%3B%2A%2C%2A', 'user_rating': {'aggregate_rating': '4.5', 'rating_text': 'Excellent', 'rating_color': '3F7E00', 'rating_obj': {'title': {'text': '4.5'}, 'bg_color': {'type': 'lime', 'tint': '700'}}, 'votes': 70}, 'all_reviews_count': 52, 'photos_url': 'https://www.zomato.com/ncr/leaf-n-loaf-sector-23-gurgaon/photos?utm_source=api_basic_user&utm_medium=api&utm_campaign=v2.1#tabtop', 'photo_count': 50, 'menu_url': 'https://www.zomato.com/ncr/leaf-n-loaf-sector-23-gurgaon/menu?utm_source=api_basic_user&utm_medium=api&utm_campaign=v2.1&openSwipeBox=menu&showMinimal=1#tabtop', 'featured_image': 'https://b.zmtcdn.com/data/pictures/4/18725664/3e70bf3801ed273be212d8dd5b86cf6c.jpg', 'has_online_delivery': 1, 'is_delivering_now': 0, 'store_type': '', 'include_bogo_offers': True, 'deeplink': 'zomato://restaurant/19345264', 'is_table_reservation_supported': 0, 'has_table_booking': 0, 'events_url': 'https://www.zomato.com/ncr/leaf-n-loaf-sector-23-gurgaon/events#tabtop?utm_source=api_basic_user&utm_medium=api&utm_campaign=v2.1', 'phone_numbers': '+91 9899699591', 'all_reviews': {'reviews': [{'review': []}, {'review': []}, {'review': []}, {'review': []}, {'review': []}]}, 'establishment': [], 'establishment_types': []}}, {'restaurant': {'R': {'has_menu_status': {'delivery': -1, 'takeaway': -1}, 'res_id': 310031, 'is_grocery_store': False}, 'apikey': 'a4356ceff8fe3ac3b37168de92ddf8b9', 'id': '310031', 'name': 'Spice It -  ibis New Delhi', 'url': 'https://www.zomato.com/ncr/spice-it-ibis-new-delhi-aerocity-new-delhi?utm_source=api_basic_user&utm_medium=api&utm_campaign=v2.1', 'location': {'address': 'ibis Delhi Airport, Asset 9, Hospitality District, Aerocity, New Delhi', 'locality': 'ibis New Delhi, Aerocity', 'city': 'New Delhi', 'city_id': 1, 'latitude': '28.5511584175', 'longitude': '77.1235789292', 'zipcode': '', 'country_id': 1, 'locality_verbose': 'ibis New Delhi, Aerocity, New Delhi'}, 'switch_to_order_menu': 0, 'cuisines': 'North Indian, Continental, Chinese', 'timings': '24 Hours (Mon-Sun)', 'average_cost_for_two': 1500, 'price_range': 3, 'currency': 'Rs.', 'highlights': ['Lunch', 'Cash', 'Debit Card', 'Dinner', 'Credit Card', 'Fullbar', 'Table booking recommended', 'Wifi', 'Indoor Seating', 'Air Conditioned', 'Wheelchair Accessible'], 'offers': [], 'opentable_support': 0, 'is_zomato_book_res': 0, 'mezzo_provider': 'OTHER', 'is_book_form_web_view': 0, 'book_form_web_view_url': '', 'book_again_url': '', 'thumb': 'https://b.zmtcdn.com/data/res_imagery/310031_RESTAURANT_300007d90881d245ccdebbc407f38e6a_c.jpg?fit=around%7C200%3A200&crop=200%3A200%3B%2A%2C%2A', 'user_rating': {'aggregate_rating': '4.0', 'rating_text': 'Very Good', 'rating_color': '5BA829', 'rating_obj': {'title': {'text': '4.0'}, 'bg_color': {'type': 'lime', 'tint': '600'}}, 'votes': 256}, 'all_reviews_count': 202, 'photos_url': 'https://www.zomato.com/ncr/spice-it-ibis-new-delhi-aerocity-new-delhi/photos?utm_source=api_basic_user&utm_medium=api&utm_campaign=v2.1#tabtop', 'photo_count': 721, 'menu_url': 'https://www.zomato.com/ncr/spice-it-ibis-new-delhi-aerocity-new-delhi/menu?utm_source=api_basic_user&utm_medium=api&utm_campaign=v2.1&openSwipeBox=menu&showMinimal=1#tabtop', 'featured_image': 'https://b.zmtcdn.com/data/res_imagery/310031_RESTAURANT_300007d90881d245ccdebbc407f38e6a_c.jpg', 'has_online_delivery': 0, 'is_delivering_now': 0, 'store_type': '', 'include_bogo_offers': True, 'deeplink': 'zomato://restaurant/310031', 'is_table_reservation_supported': 0, 'has_table_booking': 0, 'events_url': 'https://www.zomato.com/ncr/spice-it-ibis-new-delhi-aerocity-new-delhi/events#tabtop?utm_source=api_basic_user&utm_medium=api&utm_campaign=v2.1', 'phone_numbers': '011 43020202', 'all_reviews': {'reviews': [{'review': []}, {'review': []}, {'review': []}, {'review': []}, {'review': []}]}, 'establishment': ['Casual Dining'], 'establishment_types': []}}, {'restaurant': {'R': {'has_menu_status': {'delivery': -1, 'takeaway': -1}, 'res_id': 306263, 'is_grocery_store': False}, 'apikey': 'a4356ceff8fe3ac3b37168de92ddf8b9', 'id': '306263', 'name': 'K3 - JW Marriott New Delhi', 'url': 'https://www.zomato.com/ncr/k3-jw-marriott-new-delhi-aerocity-new-delhi?utm_source=api_basic_user&utm_medium=api&utm_campaign=v2.1', 'location': {'address': 'JW Marriott Delhi NCR, Asset Area 4, Hospitality District, Aerocity, New Delhi', 'locality': 'JW Marriott New Delhi', 'city': 'New Delhi', 'city_id': 1, 'latitude': '28.5532552000', 'longitude': '77.1219546000', 'zipcode': '', 'country_id': 1, 'locality_verbose': 'JW Marriott New Delhi, New Delhi'}, 'switch_to_order_menu': 0, 'cuisines': 'North Indian, Chinese, Italian, Momos', 'timings': '24 Hours', 'average_cost_for_two': 3500, 'price_range': 4, 'currency': 'Rs.', 'highlights': ['Dinner', 'Cash', 'Debit Card', 'Lunch', 'Credit Card', 'Valet Parking Available', 'Indoor Seating', 'Table booking recommended', 'Wheelchair Accessible', 'Brunch', 'Fullbar', '4/5 Star', 'Air Conditioned', 'Luxury Dining', 'Buffet'], 'offers': [], 'opentable_support': 0, 'is_zomato_book_res': 0, 'mezzo_provider': 'OTHER', 'is_book_form_web_view': 0, 'book_form_web_view_url': '', 'book_again_url': '', 'thumb': 'https://b.zmtcdn.com/data/pictures/3/306263/d881c0a2664afbb73761b986d79979a2.jpg?fit=around%7C200%3A200&crop=200%3A200%3B%2A%2C%2A', 'user_rating': {'aggregate_rating': '4.6', 'rating_text': 'Excellent', 'rating_color': '3F7E00', 'rating_obj': {'title': {'text': '4.6'}, 'bg_color': {'type': 'lime', 'tint': '800'}}, 'votes': 1565}, 'all_reviews_count': 767, 'photos_url': 'https://www.zomato.com/ncr/k3-jw-marriott-new-delhi-aerocity-new-delhi/photos?utm_source=api_basic_user&utm_medium=api&utm_campaign=v2.1#tabtop', 'photo_count': 2071, 'menu_url': 'https://www.zomato.com/ncr/k3-jw-marriott-new-delhi-aerocity-new-delhi/menu?utm_source=api_basic_user&utm_medium=api&utm_campaign=v2.1&openSwipeBox=menu&showMinimal=1#tabtop', 'featured_image': 'https://b.zmtcdn.com/data/pictures/3/306263/d881c0a2664afbb73761b986d79979a2.jpg', 'has_online_delivery': 0, 'is_delivering_now': 0, 'store_type': '', 'include_bogo_offers': True, 'deeplink': 'zomato://restaurant/306263', 'is_table_reservation_supported': 0, 'has_table_booking': 0, 'events_url': 'https://www.zomato.com/ncr/k3-jw-marriott-new-delhi-aerocity-new-delhi/events#tabtop?utm_source=api_basic_user&utm_medium=api&utm_campaign=v2.1', 'phone_numbers': '011 45212120, +91 8826695722, +91 8527879846', 'all_reviews': {'reviews': [{'review': []}, {'review': []}, {'review': []}, {'review': []}, {'review': []}]}, 'establishment': ['Fine Dining'], 'establishment_types': []}}, {'restaurant': {'R': {'has_menu_status': {'delivery': -1, 'takeaway': -1}, 'res_id': 18558920, 'is_grocery_store': False}, 'apikey': 'a4356ceff8fe3ac3b37168de92ddf8b9', 'id': '18558920', 'name': 'Burma Burma', 'url': 'https://www.zomato.com/ncr/burma-burma-saket-new-delhi?utm_source=api_basic_user&utm_medium=api&utm_campaign=v2.1', 'location': {'address': 'S 25, A 3, 2nd Floor, Select Citywalk Mall, Saket, New Delhi', 'locality': 'Select Citywalk Mall, Saket', 'city': 'New Delhi', 'city_id': 1, 'latitude': '28.5284455092', 'longitude': '77.2186621651', 'zipcode': '', 'country_id': 1, 'locality_verbose': 'Select Citywalk Mall, Saket, New Delhi'}, 'switch_to_order_menu': 0, 'cuisines': 'Asian, Burmese, Bubble Tea, Desserts, Salad', 'timings': '12noon – 3:30pm, 6:30pm – 10:30pm (Mon-Fri),12noon – 10:30pm (Sat-Sun)', 'average_cost_for_two': 1600, 'price_range': 3, 'currency': 'Rs.', 'highlights': ['Dinner', 'Mall Parking', 'Takeaway Available', 'Credit Card', 'Lunch', 'Cash', 'Delivery', 'Debit Card', 'Indoor Seating', 'Air Conditioned', 'Wifi', 'Pure Veg', 'Table booking recommended', 'Kid Friendly', 'Gluten Free Options', 'Serves Jain Food'], 'offers': [], 'opentable_support': 0, 'is_zomato_book_res': 0, 'mezzo_provider': 'OTHER', 'is_book_form_web_view': 0, 'book_form_web_view_url': '', 'book_again_url': '', 'thumb': 'https://b.zmtcdn.com/data/pictures/9/18303709/1d12168ba6d1f0b0d36b911543d6cdab.jpg?fit=around%7C200%3A200&crop=200%3A200%3B%2A%2C%2A', 'user_rating': {'aggregate_rating': '4.7', 'rating_text': 'Excellent', 'rating_color': '3F7E00', 'rating_obj': {'title': {'text': '4.7'}, 'bg_color': {'type': 'lime', 'tint': '800'}}, 'votes': 2317}, 'all_reviews_count': 973, 'photos_url': 'https://www.zomato.com/ncr/burma-burma-saket-new-delhi/photos?utm_source=api_basic_user&utm_medium=api&utm_campaign=v2.1#tabtop', 'photo_count': 3491, 'menu_url': 'https://www.zomato.com/ncr/burma-burma-saket-new-delhi/menu?utm_source=api_basic_user&utm_medium=api&utm_campaign=v2.1&openSwipeBox=menu&showMinimal=1#tabtop', 'featured_image': 'https://b.zmtcdn.com/data/pictures/9/18303709/1d12168ba6d1f0b0d36b911543d6cdab.jpg', 'medio_provider': 1, 'has_online_delivery': 1, 'is_delivering_now': 0, 'store_type': '', 'include_bogo_offers': True, 'deeplink': 'zomato://restaurant/18558920', 'is_table_reservation_supported': 1, 'has_table_booking': 0, 'events_url': 'https://www.zomato.com/ncr/burma-burma-saket-new-delhi/events#tabtop?utm_source=api_basic_user&utm_medium=api&utm_campaign=v2.1', 'phone_numbers': '011 49145807, 011 49145808, 011 49145809', 'all_reviews': {'reviews': [{'review': []}, {'review': []}, {'review': []}, {'review': []}, {'review': []}]}, 'establishment': ['Casual Dining'], 'establishment_types': []}}, {'restaurant': {'R': {'has_menu_status': {'delivery': -1, 'takeaway': -1}, 'res_id': 18138443, 'is_grocery_store': False}, 'apikey': 'a4356ceff8fe3ac3b37168de92ddf8b9', 'id': '18138443', 'name': 'The Piano Man Jazz Club', 'url': 'https://www.zomato.com/ncr/the-piano-man-jazz-club-safdarjung-new-delhi?utm_source=api_basic_user&utm_medium=api&utm_campaign=v2.1', 'location': {'address': 'Shop B 6, 7/22, Safdarjung Enclave Market, Opposite Deer Park, Safdarjung, New Delhi', 'locality': 'Safdarjung', 'city': 'New Delhi', 'city_id': 1, 'latitude': '28.5596387697', 'longitude': '77.1970576420', 'zipcode': '', 'country_id': 1, 'locality_verbose': 'Safdarjung, New Delhi'}, 'switch_to_order_menu': 0, 'cuisines': 'Finger Food, Mexican, American, Italian, Asian', 'timings': '12noon – 8am (Mon),11am – 11pm (Tue-Sun)', 'average_cost_for_two': 2800, 'price_range': 4, 'currency': 'Rs.', 'highlights': ['Lunch', 'Cash', 'Debit Card', 'Dinner', 'Credit Card', 'Live Entertainment', 'Fullbar', 'Indoor Seating', 'Table booking recommended', 'Wifi', 'Nightlife', 'Live Music', 'Rooftop', 'Air Conditioned', 'Smoking Area'], 'offers': [], 'opentable_support': 0, 'is_zomato_book_res': 0, 'mezzo_provider': 'OTHER', 'is_book_form_web_view': 0, 'book_form_web_view_url': '', 'book_again_url': '', 'thumb': 'https://b.zmtcdn.com/data/pictures/3/18138443/4f9a220ab3cc54670c2537acc9152e13.jpg?fit=around%7C200%3A200&crop=200%3A200%3B%2A%2C%2A', 'user_rating': {'aggregate_rating': '4.5', 'rating_text': 'Excellent', 'rating_color': '3F7E00', 'rating_obj': {'title': {'text': '4.5'}, 'bg_color': {'type': 'lime', 'tint': '700'}}, 'votes': 1285}, 'all_reviews_count': 547, 'photos_url': 'https://www.zomato.com/ncr/the-piano-man-jazz-club-safdarjung-new-delhi/photos?utm_source=api_basic_user&utm_medium=api&utm_campaign=v2.1#tabtop', 'photo_count': 514, 'menu_url': 'https://www.zomato.com/ncr/the-piano-man-jazz-club-safdarjung-new-delhi/menu?utm_source=api_basic_user&utm_medium=api&utm_campaign=v2.1&openSwipeBox=menu&showMinimal=1#tabtop', 'featured_image': 'https://b.zmtcdn.com/data/pictures/3/18138443/4f9a220ab3cc54670c2537acc9152e13.jpg', 'medio_provider': 1, 'has_online_delivery': 1, 'is_delivering_now': 0, 'store_type': '', 'include_bogo_offers': True, 'deeplink': 'zomato://restaurant/18138443', 'is_table_reservation_supported': 1, 'has_table_booking': 1, 'book_url': 'https://www.zomato.com/ncr/the-piano-man-jazz-club-safdarjung-new-delhi/book?utm_source=api_basic_user&utm_medium=api&utm_campaign=v2.1', 'events_url': 'https://www.zomato.com/ncr/the-piano-man-jazz-club-safdarjung-new-delhi/events#tabtop?utm_source=api_basic_user&utm_medium=api&utm_campaign=v2.1', 'phone_numbers': '011 41315181, 00 8700339159\\u202c, +91 9953213584', 'all_reviews': {'reviews': [{'review': []}, {'review': []}, {'review': []}, {'review': []}, {'review': []}]}, 'establishment': ['Bar'], 'establishment_types': []}}, {'restaurant': {'R': {'has_menu_status': {'delivery': -1, 'takeaway': -1}, 'res_id': 312396, 'is_grocery_store': False}, 'apikey': 'a4356ceff8fe3ac3b37168de92ddf8b9', 'id': '312396', 'name': 'Busan Korean Restaurant', 'url': 'https://www.zomato.com/ncr/busan-korean-restaurant-majnu-ka-tila-new-delhi?utm_source=api_basic_user&utm_medium=api&utm_campaign=v2.1', 'location': {'address': '9B, Ground Floor, Block 10, New Aruna Nagar, Majnu Ka Tilla, New Delhi', 'locality': 'Majnu ka Tila', 'city': 'New Delhi', 'city_id': 1, 'latitude': '28.7027726189', 'longitude': '77.2286885977', 'zipcode': '110054', 'country_id': 1, 'locality_verbose': 'Majnu ka Tila, New Delhi'}, 'switch_to_order_menu': 0, 'cuisines': 'Korean, Asian', 'timings': '', 'average_cost_for_two': 900, 'price_range': 2, 'currency': 'Rs.', 'highlights': ['Dinner', 'Delivery', 'Lunch', 'Cash', 'Takeaway Available', 'Indoor Seating', 'Air Conditioned', 'Table booking recommended'], 'offers': [], 'opentable_support': 0, 'is_zomato_book_res': 0, 'mezzo_provider': 'OTHER', 'is_book_form_web_view': 0, 'book_form_web_view_url': '', 'book_again_url': '', 'thumb': 'https://b.zmtcdn.com/data/reviews_photos/00b/24ddd1ca95e99c3a69622ff8a48d300b_1573016099.jpg?fit=around%7C200%3A200&crop=200%3A200%3B%2A%2C%2A', 'user_rating': {'aggregate_rating': '4.3', 'rating_text': 'Very Good', 'rating_color': '5BA829', 'rating_obj': {'title': {'text': '4.3'}, 'bg_color': {'type': 'lime', 'tint': '700'}}, 'votes': 1054}, 'all_reviews_count': 362, 'photos_url': 'https://www.zomato.com/ncr/busan-korean-restaurant-majnu-ka-tila-new-delhi/photos?utm_source=api_basic_user&utm_medium=api&utm_campaign=v2.1#tabtop', 'photo_count': 941, 'menu_url': 'https://www.zomato.com/ncr/busan-korean-restaurant-majnu-ka-tila-new-delhi/menu?utm_source=api_basic_user&utm_medium=api&utm_campaign=v2.1&openSwipeBox=menu&showMinimal=1#tabtop', 'featured_image': 'https://b.zmtcdn.com/data/reviews_photos/00b/24ddd1ca95e99c3a69622ff8a48d300b_1573016099.jpg', 'medio_provider': 1, 'has_online_delivery': 1, 'is_delivering_now': 0, 'store_type': '', 'include_bogo_offers': True, 'deeplink': 'zomato://restaurant/312396', 'is_table_reservation_supported': 1, 'has_table_booking': 0, 'events_url': 'https://www.zomato.com/ncr/busan-korean-restaurant-majnu-ka-tila-new-delhi/events#tabtop?utm_source=api_basic_user&utm_medium=api&utm_campaign=v2.1', 'phone_numbers': '+91 9560816905', 'all_reviews': {'reviews': [{'review': []}, {'review': []}, {'review': []}, {'review': []}, {'review': []}]}, 'establishment': ['Casual Dining'], 'establishment_types': []}}, {'restaurant': {'R': {'has_menu_status': {'delivery': 0, 'takeaway': -1}, 'res_id': 18789249, 'is_grocery_store': False}, 'apikey': 'a4356ceff8fe3ac3b37168de92ddf8b9', 'id': '18789249', 'name': 'Barbeque Nation', 'url': 'https://www.zomato.com/ncr/barbeque-nation-1-sector-62-noida?utm_source=api_basic_user&utm_medium=api&utm_campaign=v2.1', 'location': {'address': 'Plot C 25, 1st Floor, Stellar IT Park, Industrial Area, Phase 2, Sector 62, Noida', 'locality': 'Sector 62', 'city': 'Noida', 'city_id': 1, 'latitude': '28.6128060115', 'longitude': '77.3625090346', 'zipcode': '', 'country_id': 1, 'locality_verbose': 'Sector 62, Noida'}, 'switch_to_order_menu': 0, 'cuisines': 'North Indian, Beverages, BBQ', 'timings': '11 AM to 11 PM', 'average_cost_for_two': 1600, 'price_range': 3, 'currency': 'Rs.', 'highlights': ['Lunch', 'Credit Card', 'Debit Card', 'Cash', 'Fullbar', 'Air Conditioned', 'Indoor Seating', 'Digital Payments Accepted', 'Buffet'], 'offers': [], 'opentable_support': 0, 'is_zomato_book_res': 0, 'mezzo_provider': 'OTHER', 'is_book_form_web_view': 0, 'book_form_web_view_url': '', 'book_again_url': '', 'thumb': 'https://b.zmtcdn.com/data/pictures/chains/2/1212/b6429ddad24625e65344caabb921bd57.jpg?fit=around%7C200%3A200&crop=200%3A200%3B%2A%2C%2A', 'user_rating': {'aggregate_rating': '4.5', 'rating_text': 'Excellent', 'rating_color': '3F7E00', 'rating_obj': {'title': {'text': '4.5'}, 'bg_color': {'type': 'lime', 'tint': '700'}}, 'votes': 922}, 'all_reviews_count': 669, 'photos_url': 'https://www.zomato.com/ncr/barbeque-nation-1-sector-62-noida/photos?utm_source=api_basic_user&utm_medium=api&utm_campaign=v2.1#tabtop', 'photo_count': 433, 'menu_url': 'https://www.zomato.com/ncr/barbeque-nation-1-sector-62-noida/menu?utm_source=api_basic_user&utm_medium=api&utm_campaign=v2.1&openSwipeBox=menu&showMinimal=1#tabtop', 'featured_image': 'https://b.zmtcdn.com/data/pictures/chains/2/1212/b6429ddad24625e65344caabb921bd57.jpg?output-format=webp', 'medio_provider': 1, 'has_online_delivery': 1, 'is_delivering_now': 0, 'store_type': '', 'include_bogo_offers': True, 'deeplink': 'zomato://restaurant/18789249', 'is_table_reservation_supported': 1, 'has_table_booking': 1, 'book_url': 'https://www.zomato.com/ncr/barbeque-nation-1-sector-62-noida/book?utm_source=api_basic_user&utm_medium=api&utm_campaign=v2.1', 'events_url': 'https://www.zomato.com/ncr/barbeque-nation-1-sector-62-noida/events#tabtop?utm_source=api_basic_user&utm_medium=api&utm_campaign=v2.1', 'phone_numbers': '080 61756025', 'all_reviews': {'reviews': [{'review': []}, {'review': []}, {'review': []}, {'review': []}, {'review': []}]}, 'establishment': ['Casual Dining'], 'establishment_types': []}}]\n",
      "{'aggregate_rating': '4.9', 'rating_text': 'Excellent', 'rating_color': '3F7E00', 'rating_obj': {'title': {'text': '4.9'}, 'bg_color': {'type': 'lime', 'tint': '800'}}, 'votes': 3906}\n",
      "2500\n",
      "Asian, Chinese, Thai, Japanese\n",
      "A-3, Select Citywalk, District Centre, Saket, New Delhi\n"
     ]
    }
   ],
   "source": [
    "import requests\n",
    "import json\n",
    "headers={'user-key':'a4356ceff8fe3ac3b37168de92ddf8b9','Accept': 'application/json'}\n",
    "#first get the city id for mexico\n",
    "query={'q':'Pa Pa Ya'}\n",
    "res=requests.get('https://developers.zomato.com/api/v2.1/search',headers=headers,params=query)\n",
    "# print(res.json().get('restaurants'))\n",
    "for res in res.json().get('restaurants'):\n",
    "    if (res['restaurant']['name']=='Pa Pa Ya'):\n",
    "        print(res['restaurant']['user_rating'])\n",
    "        print(res['restaurant']['average_cost_for_two'])\n",
    "        print(res['restaurant']['cuisines'])\n",
    "        print(res['restaurant']['location']['address'])\n",
    "        "
   ]
  },
  {
   "cell_type": "code",
   "execution_count": 19,
   "metadata": {},
   "outputs": [
    {
     "name": "stdout",
     "output_type": "stream",
     "text": [
      "-33.750014 122.532566\n",
      "{'location': {'entity_type': 'subzone', 'entity_id': 101953, 'title': 'Condingup', 'latitude': '-33.7500140000', 'longitude': '122.5325660000', 'city_id': 1949, 'city_name': 'Condingup', 'country_id': 14, 'country_name': 'Australia'}, 'popularity': {'popularity': '2.04', 'nightlife_index': '0.00', 'nearby_res': ['16609230'], 'top_cuisines': ['Bar Food'], 'popularity_res': '100', 'nightlife_res': '10', 'subzone': 'Condingup', 'subzone_id': 101953, 'city': 'Condingup'}, 'link': 'https://www.zomato.com/condingup-wa/condingup-restaurants', 'nearby_restaurants': [{'restaurant': {'R': {'has_menu_status': {'delivery': -1, 'takeaway': -1}, 'res_id': 16609230, 'is_grocery_store': False}, 'apikey': 'a4356ceff8fe3ac3b37168de92ddf8b9', 'id': '16609230', 'name': 'Condingup Tavern', 'url': 'https://www.zomato.com/condingup-wa/condingup-tavern-condingup?utm_source=api_basic_user&utm_medium=api&utm_campaign=v2.1', 'location': {'address': 'Corner of Ayre & Parish St, Condingup', 'locality': 'Condingup', 'city': 'Condingup', 'city_id': 1949, 'latitude': '-33.7500140000', 'longitude': '122.5325660000', 'zipcode': '06450', 'country_id': 14, 'locality_verbose': 'Condingup, Condingup'}, 'switch_to_order_menu': 0, 'cuisines': 'Bar Food', 'average_cost_for_two': 0, 'price_range': 1, 'currency': '$', 'offers': [], 'opentable_support': 0, 'is_zomato_book_res': 0, 'mezzo_provider': 'OTHER', 'is_book_form_web_view': 0, 'book_form_web_view_url': '', 'book_again_url': '', 'thumb': '', 'user_rating': {'aggregate_rating': '3.9', 'rating_text': 'Good', 'rating_color': '9ACD32', 'rating_obj': {'title': {'text': '3.9'}, 'bg_color': {'type': 'lime', 'tint': '600'}}, 'votes': 10}, 'photos_url': 'https://www.zomato.com/condingup-wa/condingup-tavern-condingup/photos?utm_source=api_basic_user&utm_medium=api&utm_campaign=v2.1#tabtop', 'menu_url': 'https://www.zomato.com/condingup-wa/condingup-tavern-condingup/menu?utm_source=api_basic_user&utm_medium=api&utm_campaign=v2.1&openSwipeBox=menu&showMinimal=1#tabtop', 'featured_image': '', 'has_online_delivery': 0, 'is_delivering_now': 0, 'store_type': '', 'include_bogo_offers': True, 'deeplink': 'zomato://restaurant/16609230', 'is_table_reservation_supported': 0, 'has_table_booking': 0, 'events_url': 'https://www.zomato.com/condingup-wa/condingup-tavern-condingup/events#tabtop?utm_source=api_basic_user&utm_medium=api&utm_campaign=v2.1'}}]}\n"
     ]
    }
   ],
   "source": [
    "import requests\n",
    "import json\n",
    "headers={'user-key':'a4356ceff8fe3ac3b37168de92ddf8b9','Accept': 'application/json'}\n",
    "#first get the city id for mexico\n",
    "query={'query':'Coding Ninjas'}\n",
    "res=requests.get('https://developers.zomato.com/api/v2.1/locations',headers=headers,params=query)\n",
    "# print(res.json()['location_suggestions'][0]['latitude'],res.json()['location_suggestions'][0]['longitude'])\n",
    "lat=res.json()['location_suggestions'][0]['latitude']\n",
    "lon=res.json()['location_suggestions'][0]['longitude']\n",
    "print(lat,lon)\n",
    "query={'lat':lat,'lon':lon}\n",
    "res=requests.get('https://developers.zomato.com/api/v2.1/geocode',headers=headers,params=query)\n",
    "print(res.json())"
   ]
  }
 ],
 "metadata": {
  "kernelspec": {
   "display_name": "Python (myenv)",
   "language": "python",
   "name": "myenv"
  },
  "language_info": {
   "codemirror_mode": {
    "name": "ipython",
    "version": 3
   },
   "file_extension": ".py",
   "mimetype": "text/x-python",
   "name": "python",
   "nbconvert_exporter": "python",
   "pygments_lexer": "ipython3",
   "version": "3.7.6"
  }
 },
 "nbformat": 4,
 "nbformat_minor": 4
}
