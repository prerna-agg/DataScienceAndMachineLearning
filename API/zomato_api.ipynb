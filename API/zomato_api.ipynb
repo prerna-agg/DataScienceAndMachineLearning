{
 "cells": [
  {
   "cell_type": "code",
   "execution_count": null,
   "metadata": {},
   "outputs": [],
   "source": [
    "import requests\n",
    "import json\n",
    "%run configs.ipynb"
   ]
  },
  {
   "cell_type": "code",
   "execution_count": null,
   "metadata": {},
   "outputs": [],
   "source": [
    "headers={'user-key':zomatoApiKey,'Accept': 'application/json'}\n",
    "#first get the city id for mexico\n",
    "query={'city_id':'1'}\n",
    "res=requests.get('https://developers.zomato.com/api/v2.1/cuisines',headers=headers,params=query)\n",
    "\n",
    "for cuisine in res.json().get('cuisines'):\n",
    "    if cuisine['cuisine']['cuisine_name']=='Mexican':\n",
    "        print(cuisine['cuisine']['cuisine_id'])\n",
    "    "
   ]
  },
  {
   "cell_type": "code",
   "execution_count": null,
   "metadata": {},
   "outputs": [],
   "source": [
    "\n",
    "import requests\n",
    "import json\n",
    "headers={'user-key':'a4356ceff8fe3ac3b37168de92ddf8b9','Accept': 'application/json'}\n",
    "#first get the city id for mexico\n",
    "query={'query':'Connaught Place'}\n",
    "res=requests.get('https://developers.zomato.com/api/v2.1/locations',headers=headers,params=query)\n",
    "locs=res.json().get('location_suggestions')\n",
    "for loc in locs:\n",
    "    if loc.get('title')=='Connaught Place, New Delhi' :\n",
    "        print(loc.get('entity_type'),loc.get('entity_id'))"
   ]
  },
  {
   "cell_type": "code",
   "execution_count": null,
   "metadata": {},
   "outputs": [],
   "source": [
    "import requests\n",
    "import json\n",
    "headers={'user-key':'a4356ceff8fe3ac3b37168de92ddf8b9','Accept': 'application/json'}\n",
    "#first get the city id for mexico\n",
    "query={'entity_type':'subzone','entity_id':'104','cuisines':'73','sort':'rating','count':'10'}\n",
    "res=requests.get('https://developers.zomato.com/api/v2.1/search',headers=headers,params=query)\n",
    "for res in res.json().get('restaurants'):\n",
    "    print(res.get('restaurant').get('name'),res.get('restaurant').get('user_rating').get('aggregate_rating'),res.get('restaurant').get('id'))"
   ]
  },
  {
   "cell_type": "code",
   "execution_count": null,
   "metadata": {},
   "outputs": [],
   "source": [
    "import requests\n",
    "import json\n",
    "headers={'user-key':'a4356ceff8fe3ac3b37168de92ddf8b9','Accept': 'application/json'}\n",
    "\n",
    "res=requests.get('https://developers.zomato.com/api/v2.1/categories',headers=headers)\n",
    "\n",
    "for cat in res.json().get('categories'):\n",
    "    if cat.get('categories').get('name')=='Cafes':\n",
    "        print(cat.get('categories').get('id'))"
   ]
  },
  {
   "cell_type": "code",
   "execution_count": null,
   "metadata": {},
   "outputs": [],
   "source": [
    "import requests\n",
    "import json\n",
    "headers={'user-key':'a4356ceff8fe3ac3b37168de92ddf8b9','Accept': 'application/json'}\n",
    "#first get the city id for mexico\n",
    "query={'entity_type':'subzone','entity_id':'104','cuisines':'73','sort':'rating','count':'10','category':'6'}\n",
    "res=requests.get('https://developers.zomato.com/api/v2.1/search',headers=headers,params=query)\n",
    "for res in res.json().get('restaurants'):\n",
    "    print(res.get('restaurant').get('name'),res.get('restaurant').get('user_rating').get('aggregate_rating'),res.get('restaurant').get('id'))"
   ]
  },
  {
   "cell_type": "code",
   "execution_count": null,
   "metadata": {},
   "outputs": [],
   "source": [
    "import requests\n",
    "import json\n",
    "headers={'user-key':'a4356ceff8fe3ac3b37168de92ddf8b9','Accept': 'application/json'}\n",
    "#first get the city id for mexico\n",
    "query={'q':'Pa Pa Ya'}\n",
    "res=requests.get('https://developers.zomato.com/api/v2.1/search',headers=headers,params=query)\n",
    "# print(res.json().get('restaurants'))\n",
    "for res in res.json().get('restaurants'):\n",
    "    if (res['restaurant']['name']=='Pa Pa Ya'):\n",
    "        print(res['restaurant']['user_rating'])\n",
    "        print(res['restaurant']['average_cost_for_two'])\n",
    "        print(res['restaurant']['cuisines'])\n",
    "        print(res['restaurant']['location']['address'])\n",
    "        "
   ]
  },
  {
   "cell_type": "code",
   "execution_count": null,
   "metadata": {},
   "outputs": [],
   "source": [
    "import requests\n",
    "import json\n",
    "headers={'user-key':'a4356ceff8fe3ac3b37168de92ddf8b9','Accept': 'application/json'}\n",
    "#first get the city id for mexico\n",
    "query={'query':'Coding Ninjas'}\n",
    "res=requests.get('https://developers.zomato.com/api/v2.1/locations',headers=headers,params=query)\n",
    "# print(res.json()['location_suggestions'][0]['latitude'],res.json()['location_suggestions'][0]['longitude'])\n",
    "lat=res.json()['location_suggestions'][0]['latitude']\n",
    "lon=res.json()['location_suggestions'][0]['longitude']\n",
    "print(lat,lon)\n",
    "query={'lat':lat,'lon':lon}\n",
    "res=requests.get('https://developers.zomato.com/api/v2.1/geocode',headers=headers,params=query)\n",
    "print(res.json())"
   ]
  }
 ],
 "metadata": {
  "kernelspec": {
   "display_name": "Python (myenv)",
   "language": "python",
   "name": "myenv"
  },
  "language_info": {
   "codemirror_mode": {
    "name": "ipython",
    "version": 3
   },
   "file_extension": ".py",
   "mimetype": "text/x-python",
   "name": "python",
   "nbconvert_exporter": "python",
   "pygments_lexer": "ipython3",
   "version": "3.7.6"
  }
 },
 "nbformat": 4,
 "nbformat_minor": 4
}