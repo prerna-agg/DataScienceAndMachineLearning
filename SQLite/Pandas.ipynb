{
 "cells": [
  {
   "cell_type": "code",
   "execution_count": 1,
   "metadata": {
    "collapsed": true
   },
   "outputs": [],
   "source": [
    "import sqlite3\n",
    "import pandas as pd\n",
    "\n",
    "db = sqlite3.connect('School.sqlite')"
   ]
  },
  {
   "cell_type": "code",
   "execution_count": 2,
   "metadata": {},
   "outputs": [
    {
     "output_type": "execute_result",
     "data": {
      "text/plain": "   RollNumber     Name  Age\n0         101     Aman   30\n1         102     Amit   20\n2         103    Mohit   50\n3         104   Nikhil   30\n4         105    Nidhi   30\n5         106  Manisha   30\n6         107   Ankush   30",
      "text/html": "<div>\n<style scoped>\n    .dataframe tbody tr th:only-of-type {\n        vertical-align: middle;\n    }\n\n    .dataframe tbody tr th {\n        vertical-align: top;\n    }\n\n    .dataframe thead th {\n        text-align: right;\n    }\n</style>\n<table border=\"1\" class=\"dataframe\">\n  <thead>\n    <tr style=\"text-align: right;\">\n      <th></th>\n      <th>RollNumber</th>\n      <th>Name</th>\n      <th>Age</th>\n    </tr>\n  </thead>\n  <tbody>\n    <tr>\n      <th>0</th>\n      <td>101</td>\n      <td>Aman</td>\n      <td>30</td>\n    </tr>\n    <tr>\n      <th>1</th>\n      <td>102</td>\n      <td>Amit</td>\n      <td>20</td>\n    </tr>\n    <tr>\n      <th>2</th>\n      <td>103</td>\n      <td>Mohit</td>\n      <td>50</td>\n    </tr>\n    <tr>\n      <th>3</th>\n      <td>104</td>\n      <td>Nikhil</td>\n      <td>30</td>\n    </tr>\n    <tr>\n      <th>4</th>\n      <td>105</td>\n      <td>Nidhi</td>\n      <td>30</td>\n    </tr>\n    <tr>\n      <th>5</th>\n      <td>106</td>\n      <td>Manisha</td>\n      <td>30</td>\n    </tr>\n    <tr>\n      <th>6</th>\n      <td>107</td>\n      <td>Ankush</td>\n      <td>30</td>\n    </tr>\n  </tbody>\n</table>\n</div>"
     },
     "metadata": {},
     "execution_count": 2
    }
   ],
   "source": [
    "data = pd.read_sql_query(\"Select * from Student\", db)\n",
    "data"
   ]
  },
  {
   "cell_type": "code",
   "execution_count": 3,
   "metadata": {},
   "outputs": [
    {
     "output_type": "execute_result",
     "data": {
      "text/plain": "   RollNumber     Name  Age\n0         101     Aman   30\n3         104   Nikhil   30\n4         105    Nidhi   30\n5         106  Manisha   30\n6         107   Ankush   30",
      "text/html": "<div>\n<style scoped>\n    .dataframe tbody tr th:only-of-type {\n        vertical-align: middle;\n    }\n\n    .dataframe tbody tr th {\n        vertical-align: top;\n    }\n\n    .dataframe thead th {\n        text-align: right;\n    }\n</style>\n<table border=\"1\" class=\"dataframe\">\n  <thead>\n    <tr style=\"text-align: right;\">\n      <th></th>\n      <th>RollNumber</th>\n      <th>Name</th>\n      <th>Age</th>\n    </tr>\n  </thead>\n  <tbody>\n    <tr>\n      <th>0</th>\n      <td>101</td>\n      <td>Aman</td>\n      <td>30</td>\n    </tr>\n    <tr>\n      <th>3</th>\n      <td>104</td>\n      <td>Nikhil</td>\n      <td>30</td>\n    </tr>\n    <tr>\n      <th>4</th>\n      <td>105</td>\n      <td>Nidhi</td>\n      <td>30</td>\n    </tr>\n    <tr>\n      <th>5</th>\n      <td>106</td>\n      <td>Manisha</td>\n      <td>30</td>\n    </tr>\n    <tr>\n      <th>6</th>\n      <td>107</td>\n      <td>Ankush</td>\n      <td>30</td>\n    </tr>\n  </tbody>\n</table>\n</div>"
     },
     "metadata": {},
     "execution_count": 3
    }
   ],
   "source": [
    "data[data['Age'] == 30]"
   ]
  },
  {
   "cell_type": "code",
   "execution_count": 4,
   "metadata": {},
   "outputs": [
    {
     "output_type": "execute_result",
     "data": {
      "text/plain": "    ID    Name   Course  Salary\n0  201    Aman  English   20000\n1  202   Kiran    Maths   22000\n2  203  Mahesh  Science   23000",
      "text/html": "<div>\n<style scoped>\n    .dataframe tbody tr th:only-of-type {\n        vertical-align: middle;\n    }\n\n    .dataframe tbody tr th {\n        vertical-align: top;\n    }\n\n    .dataframe thead th {\n        text-align: right;\n    }\n</style>\n<table border=\"1\" class=\"dataframe\">\n  <thead>\n    <tr style=\"text-align: right;\">\n      <th></th>\n      <th>ID</th>\n      <th>Name</th>\n      <th>Course</th>\n      <th>Salary</th>\n    </tr>\n  </thead>\n  <tbody>\n    <tr>\n      <th>0</th>\n      <td>201</td>\n      <td>Aman</td>\n      <td>English</td>\n      <td>20000</td>\n    </tr>\n    <tr>\n      <th>1</th>\n      <td>202</td>\n      <td>Kiran</td>\n      <td>Maths</td>\n      <td>22000</td>\n    </tr>\n    <tr>\n      <th>2</th>\n      <td>203</td>\n      <td>Mahesh</td>\n      <td>Science</td>\n      <td>23000</td>\n    </tr>\n  </tbody>\n</table>\n</div>"
     },
     "metadata": {},
     "execution_count": 4
    }
   ],
   "source": [
    "data = pd.DataFrame([[201, \"Aman\", \"English\", 20000], [202, \"Kiran\", \"Maths\", 22000], [203, \"Mahesh\", \"Science\", 23000]], \n",
    "                   columns = [\"ID\", \"Name\", \"Course\", \"Salary\"])\n",
    "data"
   ]
  },
  {
   "cell_type": "code",
   "execution_count": 5,
   "metadata": {
    "collapsed": true
   },
   "outputs": [],
   "source": [
    "data.to_sql(\"Faculty\", db) # a new table named faculty is created"
   ]
  },
  {
   "cell_type": "code",
   "execution_count": 6,
   "metadata": {},
   "outputs": [],
   "source": [
    "data = pd.read_sql_query(\"Select * from Student\", db)\n",
    "data[\"Address\"] = \"Test\"  # to add a column\n",
    "data.to_sql(\"Student\", db, if_exists = \"replace\")"
   ]
  },
  {
   "cell_type": "code",
   "execution_count": null,
   "metadata": {},
   "outputs": [],
   "source": []
  }
 ],
 "metadata": {
  "kernelspec": {
   "display_name": "Python 3.7.6 64-bit ('base': conda)",
   "language": "python",
   "name": "python_defaultSpec_1595228394338"
  },
  "language_info": {
   "codemirror_mode": {
    "name": "ipython",
    "version": 3
   },
   "file_extension": ".py",
   "mimetype": "text/x-python",
   "name": "python",
   "nbconvert_exporter": "python",
   "pygments_lexer": "ipython3",
   "version": "3.7.6-final"
  }
 },
 "nbformat": 4,
 "nbformat_minor": 2
}