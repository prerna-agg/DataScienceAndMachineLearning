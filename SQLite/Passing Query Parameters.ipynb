{
 "cells": [
  {
   "cell_type": "code",
   "execution_count": 1,
   "metadata": {},
   "outputs": [
    {
     "output_type": "execute_result",
     "data": {
      "text/plain": "<sqlite3.Connection at 0x1254b7004e0>"
     },
     "metadata": {},
     "execution_count": 1
    }
   ],
   "source": [
    "import sqlite3\n",
    "db = sqlite3.connect('School.sqlite')\n",
    "db"
   ]
  },
  {
   "cell_type": "code",
   "execution_count": 2,
   "metadata": {},
   "outputs": [
    {
     "output_type": "execute_result",
     "data": {
      "text/plain": "<sqlite3.Cursor at 0x1254b6deab0>"
     },
     "metadata": {},
     "execution_count": 2
    }
   ],
   "source": [
    "cur = db.cursor()\n",
    "cur"
   ]
  },
  {
   "cell_type": "code",
   "execution_count": 3,
   "metadata": {},
   "outputs": [
    {
     "output_type": "execute_result",
     "data": {
      "text/plain": "<sqlite3.Cursor at 0x1254b6deab0>"
     },
     "metadata": {},
     "execution_count": 3
    }
   ],
   "source": [
    "cur.execute('Insert into Student values (103, \"Mohit\", 24)')"
   ]
  },
  {
   "cell_type": "code",
   "execution_count": 4,
   "metadata": {
    "collapsed": true
   },
   "outputs": [],
   "source": [
    "db.commit()"
   ]
  },
  {
   "cell_type": "code",
   "execution_count": 5,
   "metadata": {},
   "outputs": [
    {
     "output_type": "execute_result",
     "data": {
      "text/plain": "<sqlite3.Cursor at 0x1254b6deab0>"
     },
     "metadata": {},
     "execution_count": 5
    }
   ],
   "source": [
    "rollNumber = 104\n",
    "Name = \"Nikhil\"\n",
    "age = 34\n",
    "\n",
    "cur.execute('Insert into Student values (?, ?, ?)', (rollNumber, Name, age))"
   ]
  },
  {
   "cell_type": "code",
   "execution_count": 6,
   "metadata": {
    "collapsed": true
   },
   "outputs": [],
   "source": [
    "db.commit()"
   ]
  },
  {
   "cell_type": "code",
   "execution_count": 7,
   "metadata": {},
   "outputs": [
    {
     "output_type": "execute_result",
     "data": {
      "text/plain": "<sqlite3.Cursor at 0x1254b6deab0>"
     },
     "metadata": {},
     "execution_count": 7
    }
   ],
   "source": [
    "values = [(105, \"Nidhi\", 20), (106, \"Manisha\", 21), (107, \"Ankush\", 22)]\n",
    "cur.executemany('Insert into Student values (?, ?, ?)', values)\n"
   ]
  },
  {
   "cell_type": "code",
   "execution_count": 8,
   "metadata": {
    "collapsed": true
   },
   "outputs": [],
   "source": [
    "db.commit()"
   ]
  },
  {
   "cell_type": "code",
   "execution_count": 9,
   "metadata": {
    "tags": []
   },
   "outputs": [
    {
     "output_type": "execute_result",
     "data": {
      "text/plain": "<sqlite3.Cursor at 0x1254b6deab0>"
     },
     "metadata": {},
     "execution_count": 9
    }
   ],
   "source": [
    "cur.execute('Update Student set Age = 30')"
   ]
  },
  {
   "cell_type": "code",
   "execution_count": 10,
   "metadata": {
    "collapsed": true
   },
   "outputs": [],
   "source": [
    "db.commit()"
   ]
  },
  {
   "cell_type": "code",
   "execution_count": 12,
   "metadata": {
    "collapsed": true
   },
   "outputs": [],
   "source": [
    "cur.execute('Update Student set Age = 20 where RollNumber = 102')\n",
    "db.commit()"
   ]
  },
  {
   "cell_type": "code",
   "execution_count": 13,
   "metadata": {
    "tags": []
   },
   "outputs": [
    {
     "output_type": "execute_result",
     "data": {
      "text/plain": "<sqlite3.Cursor at 0x1254b6deab0>"
     },
     "metadata": {},
     "execution_count": 13
    }
   ],
   "source": [
    "new_age = 50\n",
    "cur.execute('Update Student set Age = ? where RollNumber = 103', (new_age, )) # , is added to make it a tuple"
   ]
  },
  {
   "cell_type": "code",
   "execution_count": 14,
   "metadata": {
    "collapsed": true
   },
   "outputs": [],
   "source": [
    "db.commit()"
   ]
  },
  {
   "cell_type": "code",
   "execution_count": 15,
   "metadata": {
    "tags": []
   },
   "outputs": [
    {
     "output_type": "stream",
     "name": "stdout",
     "text": "[(101, 'Aman', 30), (102, 'Amit', 20), (103, 'Mohit', 50), (104, 'Nikhil', 30), (105, 'Nidhi', 30), (106, 'Manisha', 30), (107, 'Ankush', 30)]\n"
    }
   ],
   "source": [
    "cur.execute(\"select * from Student\")\n",
    "print(cur.fetchall())"
   ]
  }
 ],
 "metadata": {
  "kernelspec": {
   "display_name": "Python 3",
   "language": "python",
   "name": "python3"
  },
  "language_info": {
   "codemirror_mode": {
    "name": "ipython",
    "version": 3
   },
   "file_extension": ".py",
   "mimetype": "text/x-python",
   "name": "python",
   "nbconvert_exporter": "python",
   "pygments_lexer": "ipython3",
   "version": "3.6.3"
  }
 },
 "nbformat": 4,
 "nbformat_minor": 2
}